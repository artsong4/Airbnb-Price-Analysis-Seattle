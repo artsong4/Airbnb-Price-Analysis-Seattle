{
  "cells": [
    {
      "cell_type": "markdown",
      "metadata": {
        "id": "41tQDWeQdQXQ"
      },
      "source": [
        "Load the Dataset (or you can load # outted the paths below and load your dataset from your computer)"
      ]
    },
    {
      "cell_type": "code",
      "execution_count": null,
      "metadata": {
        "id": "PWqTaSmodHyo"
      },
      "outputs": [],
      "source": [
        "import pandas as pd\n",
        "\n",
        "# Paths to your CSV files\n",
        "calendar_path = './data/raw/calendar.csv'\n",
        "listings_path = './data/raw/listings.csv'\n",
        "reviews_path = './data/raw/reviews.csv'\n",
        "\n",
        "# Load the CSV files\n",
        "calendar_df = pd.read_csv(calendar_path)\n",
        "listings_df = pd.read_csv(listings_path)\n",
        "reviews_df = pd.read_csv(reviews_path)"
      ]
    },
    {
      "cell_type": "markdown",
      "metadata": {
        "id": "u_-1bkBYd1X3"
      },
      "source": [
        "Explore the Dataset"
      ]
    },
    {
      "cell_type": "code",
      "execution_count": null,
      "metadata": {
        "colab": {
          "base_uri": "https://localhost:8080/"
        },
        "id": "PBcDJ1fvi54X",
        "outputId": "694a31c4-029b-42f9-9e6f-5869611702ef"
      },
      "outputs": [],
      "source": [
        "# Display the first few rows of each DataFrame to understand their structure\n",
        "print(\"Calendar DataFrame:\")\n",
        "print(calendar_df.head())\n",
        "\n",
        "print(\"\\nListings DataFrame:\")\n",
        "print(listings_df.head())\n",
        "\n",
        "print(\"\\nReviews DataFrame:\")\n",
        "print(reviews_df.head())\n",
        "\n",
        "# Display summary info for each DataFrame\n",
        "print(\"\\nCalendar DataFrame Info:\")\n",
        "print(calendar_df.info())\n",
        "\n",
        "print(\"\\nListings DataFrame Info:\")\n",
        "print(listings_df.info())\n",
        "\n",
        "print(\"\\nReviews DataFrame Info:\")\n",
        "print(reviews_df.info())\n"
      ]
    },
    {
      "cell_type": "markdown",
      "metadata": {
        "id": "WJh6fPSSd8FH"
      },
      "source": [
        "calendar dataframe cleaning"
      ]
    },
    {
      "cell_type": "markdown",
      "metadata": {
        "id": "yYvvDyZdgXOY"
      },
      "source": [
        "1. price to numeric after removing the dollar sign\n",
        "2. date to datetime\n",
        "3. available to boolean\n",
        "4. handle missing values"
      ]
    },
    {
      "cell_type": "code",
      "execution_count": null,
      "metadata": {
        "colab": {
          "base_uri": "https://localhost:8080/"
        },
        "id": "EBLQIjtpdH3n",
        "outputId": "314fac96-9b87-4481-a1d3-a4a4b0ce5118"
      },
      "outputs": [],
      "source": [
        "# Inspect the initial values in the 'available' column\n",
        "print(\"Initial unique values in 'available':\", calendar_df['available'].unique())\n",
        "\n",
        "# Convert available to boolean if values are 't' and 'f'\n",
        "calendar_df['available'] = calendar_df['available'].map({'t': True, 'f': False})\n",
        "\n",
        "# Check the unique values in 'available' after mapping\n",
        "print(\"Unique values in 'available' after mapping:\", calendar_df['available'].unique())\n",
        "\n",
        "# Remove dollar sign and convert price to numeric\n",
        "calendar_df['price'] = calendar_df['price'].replace('[\\$,]', '', regex=True).astype(float)\n",
        "\n",
        "# Convert date to datetime\n",
        "calendar_df['date'] = pd.to_datetime(calendar_df['date'])\n",
        "\n",
        "# Handle missing values by dropping rows where price or available is NaN\n",
        "calendar_df.dropna(subset=['price', 'available'], inplace=True)\n",
        "\n",
        "# Display cleaned Calendar DataFrame\n",
        "print(calendar_df.head())\n",
        "print(calendar_df.info())\n"
      ]
    },
    {
      "cell_type": "markdown",
      "metadata": {
        "id": "wddKcFqhgeZP"
      },
      "source": [
        "Listings dataframe cleaning"
      ]
    },
    {
      "cell_type": "markdown",
      "metadata": {
        "id": "fAt48zLyu--O"
      },
      "source": [
        "Remove Unwanted Columns"
      ]
    },
    {
      "cell_type": "code",
      "execution_count": null,
      "metadata": {
        "colab": {
          "base_uri": "https://localhost:8080/"
        },
        "id": "xis-lQeGdH6L",
        "outputId": "cf629c3b-1347-4a0f-cc3c-9e3d1459cafb"
      },
      "outputs": [],
      "source": [
        "# List of columns to remove\n",
        "columns_to_remove = [\n",
        "    'scrape_id', 'last_scraped', 'space', 'experiences_offered', 'thumbnail_url',\n",
        "    'medium_url', 'picture_url', 'xl_picture_url', 'host_url', 'host_location', 'host_about',\n",
        "    'host_thumbnail_url', 'host_picture_url', 'neighbourhood', 'calendar_updated',\n",
        "    'calendar_last_scraped', 'requires_license', 'license', 'availability_30',\n",
        "    'availability_60', 'availability_90', 'availability_365'\n",
        "]\n",
        "\n",
        "# Remove the specified columns\n",
        "listings_df.drop(columns=columns_to_remove, inplace=True)\n",
        "\n",
        "# Display the updated Listings DataFrame\n",
        "print(listings_df.head())\n",
        "print(listings_df.info())\n",
        "\n"
      ]
    },
    {
      "cell_type": "markdown",
      "metadata": {
        "id": "k-p0HpJngnJv"
      },
      "source": [
        "Price-Related Columns to Numeric and Handle Missing Values\n",
        "\n",
        "filling missing values in specific text columns with empty strings. Any missing values in these columns are replaced with an empty string rather than leaving them as NaN (Not a Number), which can cause issues in data processing and analysis."
      ]
    },
    {
      "cell_type": "code",
      "execution_count": null,
      "metadata": {
        "colab": {
          "base_uri": "https://localhost:8080/"
        },
        "id": "Z-goIiYndH8f",
        "outputId": "eff69f83-81a3-49e4-d294-ce1cef6672a8"
      },
      "outputs": [],
      "source": [
        "# Remove dollar signs and convert price-related columns to numeric\n",
        "price_columns = ['price', 'weekly_price', 'monthly_price', 'security_deposit', 'cleaning_fee', 'extra_people']\n",
        "for col in price_columns:\n",
        "    listings_df[col] = listings_df[col].replace('[\\$,]', '', regex=True).astype(float)\n",
        "\n",
        "# Convert date columns to datetime\n",
        "date_columns = ['host_since', 'first_review', 'last_review']\n",
        "for col in date_columns:\n",
        "    listings_df[col] = pd.to_datetime(listings_df[col])\n",
        "\n",
        "# Fill missing values with empty strings for text columns\n",
        "text_columns = ['summary', 'neighborhood_overview', 'notes', 'transit']\n",
        "listings_df[text_columns] = listings_df[text_columns].fillna('')\n",
        "\n",
        "# Display the cleaned Listings DataFrame\n",
        "print(listings_df.head())\n",
        "print(listings_df.info())\n"
      ]
    },
    {
      "cell_type": "markdown",
      "metadata": {
        "id": "4oBQkyJPgs3-"
      },
      "source": [
        "Feature Engineering for Pricing Strategy"
      ]
    },
    {
      "cell_type": "code",
      "execution_count": null,
      "metadata": {
        "colab": {
          "base_uri": "https://localhost:8080/"
        },
        "id": "ketC1hmCdH_J",
        "outputId": "d3971a5b-2db4-4fbc-ef15-1d806c6c4d15"
      },
      "outputs": [],
      "source": [
        "# Create new features\n",
        "listings_df['price_per_bedroom'] = listings_df['price'] / listings_df['bedrooms']\n",
        "listings_df['price_per_guest'] = listings_df['price'] / listings_df['accommodates']\n",
        "\n",
        "# Display the updated Listings DataFrame with new features\n",
        "print(listings_df.head())\n"
      ]
    },
    {
      "cell_type": "markdown",
      "metadata": {
        "id": "nHf-XII4wvLZ"
      },
      "source": [
        "Final Checks"
      ]
    },
    {
      "cell_type": "code",
      "execution_count": null,
      "metadata": {
        "colab": {
          "base_uri": "https://localhost:8080/"
        },
        "id": "0bFRoih6wstn",
        "outputId": "01071b2d-6d53-4b79-af0e-911a7ff5d5c9"
      },
      "outputs": [],
      "source": [
        "# Final check for any remaining missing values\n",
        "missing_values = listings_df.isnull().sum()\n",
        "print(missing_values[missing_values > 0])\n",
        "\n",
        "# Display the final cleaned Listings DataFrame\n",
        "print(listings_df.head())\n",
        "print(listings_df.info())\n",
        "\n",
        "# Save the cleaned Listings DataFrame\n",
        "listings_df.to_csv('/content/drive/My Drive/IST 652 final project/cleaned_listings.csv', index=False)\n",
        "\n"
      ]
    },
    {
      "cell_type": "markdown",
      "metadata": {
        "id": "AZtY6f7Swt-V"
      },
      "source": [
        "Reviews dataframe cleaning"
      ]
    },
    {
      "cell_type": "markdown",
      "metadata": {
        "id": "sNuRJirE1htG"
      },
      "source": [
        "date to Datetime format"
      ]
    },
    {
      "cell_type": "code",
      "execution_count": null,
      "metadata": {
        "colab": {
          "base_uri": "https://localhost:8080/"
        },
        "id": "mrKImpIb1IRH",
        "outputId": "7a403a5b-bb36-4180-d0fb-8b4435fa72ba"
      },
      "outputs": [],
      "source": [
        "# Convert date to datetime\n",
        "reviews_df['date'] = pd.to_datetime(reviews_df['date'])\n",
        "\n",
        "# Display the updated Reviews DataFrame to verify changes\n",
        "print(reviews_df[['date']].head())\n"
      ]
    },
    {
      "cell_type": "markdown",
      "metadata": {
        "id": "_UOBU9L61wXe"
      },
      "source": [
        "Handle Missing Values\n"
      ]
    },
    {
      "cell_type": "markdown",
      "metadata": {
        "id": "4C51qGfW12rm"
      },
      "source": [
        "We will fill missing values in the comments column with empty strings. This ensures consistency and prevents issues during text analysis."
      ]
    },
    {
      "cell_type": "code",
      "execution_count": null,
      "metadata": {
        "colab": {
          "base_uri": "https://localhost:8080/"
        },
        "id": "Kj6sEFwZ1IhJ",
        "outputId": "8bcf4e1a-294f-419b-82ef-2376407d1d84"
      },
      "outputs": [],
      "source": [
        "# Handle missing values in comments by filling with empty strings\n",
        "reviews_df['comments'].fillna('', inplace=True)\n",
        "\n",
        "# Display the cleaned Reviews DataFrame\n",
        "print(reviews_df.head())\n",
        "print(reviews_df.info())\n"
      ]
    },
    {
      "cell_type": "markdown",
      "metadata": {
        "id": "WnMIBr3s2SJl"
      },
      "source": [
        "Final Checks for Missing Values"
      ]
    },
    {
      "cell_type": "code",
      "execution_count": null,
      "metadata": {
        "colab": {
          "base_uri": "https://localhost:8080/"
        },
        "id": "CEgEDmsi1Imk",
        "outputId": "b736c160-f525-4520-bb59-d1315ad62862"
      },
      "outputs": [],
      "source": [
        "# Final check for any remaining missing values\n",
        "missing_values = reviews_df.isnull().sum()\n",
        "print(missing_values[missing_values > 0])\n"
      ]
    },
    {
      "cell_type": "markdown",
      "metadata": {
        "id": "Bh07TI5T2XmQ"
      },
      "source": [
        "Save the Cleaned Reviews DataFrame"
      ]
    },
    {
      "cell_type": "code",
      "execution_count": null,
      "metadata": {
        "colab": {
          "base_uri": "https://localhost:8080/"
        },
        "id": "yoV3Z4eE1Ipm",
        "outputId": "12d4d684-0651-4b48-e66c-b11fcb0658ca"
      },
      "outputs": [],
      "source": [
        "# Save the cleaned Reviews DataFrame\n",
        "cleaned_reviews_path = '/content/drive/My Drive/IST 652 final project/cleaned_reviews.csv'\n",
        "reviews_df.to_csv(cleaned_reviews_path, index=False)\n",
        "\n",
        "# Display the final cleaned Reviews DataFrame\n",
        "print(reviews_df.head())\n",
        "print(reviews_df.info())\n"
      ]
    },
    {
      "cell_type": "markdown",
      "metadata": {
        "id": "vlmTit2e3Rxy"
      },
      "source": [
        "EDA"
      ]
    },
    {
      "cell_type": "markdown",
      "metadata": {
        "id": "OXChD4uoAtbE"
      },
      "source": [
        "Import libraries and load cleaned dataframes"
      ]
    },
    {
      "cell_type": "code",
      "execution_count": null,
      "metadata": {
        "id": "UJ5sWsac1Isu"
      },
      "outputs": [],
      "source": [
        "import pandas as pd\n",
        "import seaborn as sns\n",
        "import matplotlib.pyplot as plt\n",
        "\n",
        "cleaned_calendar_path = './data/processed/cleaned_calendar.csv'\n",
        "cleaned_listings_path = './data/processed/cleaned_listings.csv'\n",
        "cleaned_reviews_path = './data/processed/cleaned_reviews.csv'\n",
        "\n",
        "\n",
        "calendar_df = pd.read_csv(cleaned_calendar_path)\n",
        "listings_df = pd.read_csv(cleaned_listings_path)\n",
        "reviews_df = pd.read_csv(cleaned_reviews_path)\n"
      ]
    },
    {
      "cell_type": "markdown",
      "metadata": {
        "id": "fifEuuIJA53Y"
      },
      "source": [
        "Distribution of Prices"
      ]
    },
    {
      "cell_type": "code",
      "execution_count": null,
      "metadata": {
        "colab": {
          "base_uri": "https://localhost:8080/",
          "height": 564
        },
        "id": "C0h48Gs0AjrB",
        "outputId": "018e99e7-a2b5-4893-842c-877e92b707b8"
      },
      "outputs": [],
      "source": [
        "# Distribution of Prices\n",
        "plt.figure(figsize=(10, 6))\n",
        "sns.histplot(listings_df['price'], bins=50, kde=True)\n",
        "plt.title('Distribution of Listing Prices')\n",
        "plt.xlabel('Price')\n",
        "plt.ylabel('Frequency')\n",
        "plt.show()\n"
      ]
    },
    {
      "cell_type": "markdown",
      "metadata": {
        "id": "vJuoFM7h_et_"
      },
      "source": [
        "Calculate and Visualize Average Prices by Neighborhood Group"
      ]
    },
    {
      "cell_type": "code",
      "execution_count": null,
      "metadata": {
        "colab": {
          "base_uri": "https://localhost:8080/",
          "height": 944
        },
        "id": "vAHt-2sIAj9i",
        "outputId": "02d3cab0-b8eb-41b1-94c5-3b01a265a897"
      },
      "outputs": [],
      "source": [
        "# Group by neighborhood group and calculate the average price\n",
        "average_prices = listings_df.groupby('neighbourhood_group_cleansed')['price'].mean()\n",
        "\n",
        "# Print the average prices\n",
        "print(average_prices)\n",
        "\n",
        "# Plotting\n",
        "plt.figure(figsize=(10, 6))\n",
        "average_prices.plot(kind='bar')\n",
        "plt.title('Average Airbnb House Prices by Zipcode')\n",
        "plt.xlabel('neighbourhood_group_cleansed')\n",
        "plt.ylabel('Average Price')\n",
        "plt.xticks(rotation=45)\n",
        "plt.tight_layout()\n",
        "plt.show()"
      ]
    },
    {
      "cell_type": "markdown",
      "metadata": {
        "id": "iVbkJTmyr49B"
      },
      "source": [
        "Clean Up Data for Regression Analysis"
      ]
    },
    {
      "cell_type": "code",
      "execution_count": null,
      "metadata": {
        "colab": {
          "base_uri": "https://localhost:8080/"
        },
        "id": "i_84qw8zrJYW",
        "outputId": "a0cfc5b0-24da-4451-9016-10912c313457"
      },
      "outputs": [],
      "source": [
        "# Convert 'zipcode' column to numeric, ignoring errors\n",
        "listings_df['zipcode'] = pd.to_numeric(listings_df['zipcode'], errors='coerce')\n",
        "\n",
        "# Convert 'bedrooms' column to numeric, ignoring errors\n",
        "listings_df['bedrooms'] = pd.to_numeric(listings_df['bedrooms'], errors='coerce')\n",
        "\n",
        "# Convert 'bathrooms' column to numeric, ignoring errors\n",
        "listings_df['bathrooms'] = pd.to_numeric(listings_df['bathrooms'], errors='coerce')\n",
        "\n",
        "# Drop rows with missing values\n",
        "listings_df.dropna(inplace=True)\n",
        "\n",
        "# Check the data types of all columns\n",
        "print(listings_df.dtypes)"
      ]
    },
    {
      "cell_type": "markdown",
      "metadata": {
        "id": "ypFT8cooAxHG"
      },
      "source": [
        "Predict House Listing Prices in Different Areas of Seattle"
      ]
    },
    {
      "cell_type": "code",
      "execution_count": null,
      "metadata": {
        "colab": {
          "base_uri": "https://localhost:8080/"
        },
        "id": "Dnz_Vxjvrj9q",
        "outputId": "fb088c0e-e0cb-4fee-ba38-a76b4a82e733"
      },
      "outputs": [],
      "source": [
        "# Write a program to predict what a house listing price should be in different areas of Seattle.\n",
        "import pandas as pd\n",
        "from sklearn.model_selection import train_test_split\n",
        "from sklearn.linear_model import LinearRegression\n",
        "from sklearn.metrics import mean_squared_error\n",
        "\n",
        "# Select relevant features (bedrooms, bathrooms, and zipcode) and target variable (price)\n",
        "X = listings_df[['bedrooms', 'bathrooms', 'zipcode']]\n",
        "y = listings_df['price']\n",
        "\n",
        "# Split the data into training and testing sets\n",
        "X_train, X_test, y_train, y_test = train_test_split(X, y, test_size=0.2, random_state=42)\n",
        "\n",
        "# Train the model\n",
        "model = LinearRegression()\n",
        "model.fit(X_train, y_train)\n",
        "\n",
        "# Predict prices\n",
        "y_pred = model.predict(X_test)\n",
        "\n",
        "# Evaluate the model\n",
        "mse = mean_squared_error(y_test, y_pred)\n",
        "print(\"Mean Squared Error:\", mse)\n",
        "\n",
        "# Function to predict price based on input features\n",
        "def predict_price(bedrooms, bathrooms, zipcode):\n",
        "    input_data = pd.DataFrame([[bedrooms, bathrooms, zipcode]], columns=['bedrooms', 'bathrooms', 'zipcode'])\n",
        "    price = model.predict(input_data)\n",
        "    return price[0]\n",
        "\n",
        "#Collect input from user\n",
        "bedrooms = float(input(\"Enter the number of bedrooms in the listing: \"))\n",
        "bathrooms = float(input(\"Enter the number of bathrooms in the listing: \"))\n",
        "zipcode = float(input(\"Enter the zipcode of the listing: \"))\n",
        "predicted_price = predict_price(bedrooms, bathrooms, zipcode)\n",
        "print(\"Predicted price:\", predicted_price)"
      ]
    },
    {
      "cell_type": "markdown",
      "metadata": {
        "id": "4CsFZrllwEoo"
      },
      "source": [
        "KeyWord Search for Amenities at Listings"
      ]
    },
    {
      "cell_type": "code",
      "execution_count": null,
      "metadata": {
        "colab": {
          "base_uri": "https://localhost:8080/"
        },
        "id": "_ot28sjZwFfG",
        "outputId": "b306d358-c75a-45a1-b3ce-478c2e5bf478"
      },
      "outputs": [],
      "source": [
        "# Function to perform keyword search on amenities\n",
        "def search_listings(keyword):\n",
        "    # Filter the DataFrame to include only listings containing the keyword in amenities\n",
        "    filtered_data = listings_df[listings_df['amenities'].str.contains(keyword, case=False)]\n",
        "\n",
        "    # Check if any listings match the keyword\n",
        "    if not filtered_data.empty:\n",
        "        # Display relevant details of the matching listings\n",
        "        print(\"Listings containing the keyword '{}':\".format(keyword))\n",
        "        for index, row in filtered_data.iterrows():\n",
        "            print(\"\\nListing ID:\", row['id'])\n",
        "            print(\"Name:\", row['name'])\n",
        "            print(\"Host Response Time:\", row['host_response_time'])\n",
        "            print(\"Bedrooms:\", row['bedrooms'])\n",
        "            print(\"Bathrooms:\", row['bathrooms'])\n",
        "            print(\"Beds:\", row['beds'])\n",
        "            print(\"Price:\", row['price'])\n",
        "            print(\"Neighbourhood Cleansed:\", row['neighbourhood_cleansed'])\n",
        "            print(\"Minimum Nights:\", row['minimum_nights'])\n",
        "            print(\"Guests Included:\", row['guests_included'])\n",
        "            print(\"Number of Reviews:\", row['number_of_reviews'])\n",
        "            print(\"Review Scores Rating:\", row['review_scores_rating'])\n",
        "            print(\"Listing Link:\", row['listing_url'])\n",
        "            print(\"-\" * 50)\n",
        "    else:\n",
        "        print(\"No listings found containing the keyword '{}'.\".format(keyword))\n",
        "\n",
        "# Main function\n",
        "def main():\n",
        "    # Prompt the user to enter a keyword for amenity search\n",
        "    keyword = input(\"Enter a keyword to search for listings: \")\n",
        "\n",
        "    # Perform keyword search on amenities\n",
        "    search_listings(keyword)\n",
        "\n",
        "# Entry point of the program\n",
        "if __name__ == \"__main__\":\n",
        "    main()"
      ]
    },
    {
      "cell_type": "markdown",
      "metadata": {
        "id": "WZQzLa_iAy2U"
      },
      "source": [
        "Correlation Analysis between Host Response Rate and Review Type Categories"
      ]
    },
    {
      "cell_type": "code",
      "execution_count": null,
      "metadata": {
        "colab": {
          "base_uri": "https://localhost:8080/",
          "height": 1000
        },
        "id": "Q4yQ5ApKApWG",
        "outputId": "b5e6d37d-8048-416b-dc3c-ce54c07938f4"
      },
      "outputs": [],
      "source": [
        "#Correlation Matrix between host response rate and review type categories\n",
        "# Select relevant columns\n",
        "selected_data = listings_df[['host_response_rate', 'number_of_reviews', 'host_total_listings_count','review_scores_rating','reviews_per_month']]\n",
        "\n",
        "# Convert 'host_response_rate' to numeric (remove '%' sign)\n",
        "selected_data['host_response_rate'] = selected_data['host_response_rate'].str.rstrip('%').astype('float')\n",
        "\n",
        "# Drop rows with missing values\n",
        "selected_data.dropna(inplace=True)\n",
        "\n",
        "# Calculate correlation matrix\n",
        "correlation_matrix = selected_data.corr()\n",
        "\n",
        "# Print correlation matrix\n",
        "print(correlation_matrix)\n",
        "\n",
        "# Plot correlation matrix\n",
        "plt.figure(figsize=(7, 5))\n",
        "sns.heatmap(correlation_matrix, annot=True, cmap='coolwarm', fmt=\".2f\")\n",
        "plt.title('Correlation Matrix')\n",
        "plt.show()"
      ]
    },
    {
      "cell_type": "markdown",
      "metadata": {
        "id": "pTWLl97hA7oh"
      },
      "source": [
        "Import Necessary Libraries for Modeling and Visualization"
      ]
    },
    {
      "cell_type": "code",
      "execution_count": null,
      "metadata": {
        "id": "IK8XI_6-zr6Z"
      },
      "outputs": [],
      "source": [
        "import pandas as pd\n",
        "import seaborn as sns\n",
        "import matplotlib.pyplot as plt\n",
        "from sklearn.tree import DecisionTreeClassifier # Import Decision Tree Classifier\n",
        "from sklearn.model_selection import train_test_split # Import train_test_split function\n",
        "from sklearn import metrics #Import scikit-learn metrics module for accuracy calculation\n",
        "from sklearn.datasets import load_iris\n",
        "from sklearn import tree\n",
        "import seaborn as sns\n",
        "from sklearn.ensemble import RandomForestRegressor\n",
        "from sklearn.metrics import mean_squared_error\n",
        "from sklearn.metrics import r2_score\n",
        "from sklearn.ensemble import RandomForestClassifier\n",
        "from sklearn.metrics import accuracy_score, confusion_matrix, precision_score, recall_score, ConfusionMatrixDisplay\n",
        "from sklearn.model_selection import RandomizedSearchCV, train_test_split\n",
        "from scipy.stats import randint\n",
        "\n",
        "\n",
        "# Convert 'zipcode' column to numeric, ignoring errors\n",
        "listings_df['zipcode'] = pd.to_numeric(listings_df['zipcode'], errors='coerce')\n",
        "\n",
        "# Convert 'bedrooms' column to numeric, ignoring errors\n",
        "listings_df['bedrooms'] = pd.to_numeric(listings_df['bedrooms'], errors='coerce')\n",
        "\n",
        "# Convert 'bathrooms' column to numeric, ignoring errors\n",
        "listings_df['bathrooms'] = pd.to_numeric(listings_df['bathrooms'], errors='coerce')\n",
        "\n"
      ]
    },
    {
      "cell_type": "markdown",
      "metadata": {
        "id": "vgetXrMsBeLQ"
      },
      "source": [
        "Top 10 Airbnb Listings by Review Rating"
      ]
    },
    {
      "cell_type": "code",
      "execution_count": null,
      "metadata": {
        "colab": {
          "base_uri": "https://localhost:8080/",
          "height": 554
        },
        "id": "iN3kQDygzxk2",
        "outputId": "d3d2f85f-7209-4db4-c66e-34ac83c30b2a"
      },
      "outputs": [],
      "source": [
        "\n",
        "sorted_listings_df = listings_df.sort_values(by=['review_scores_rating'],ascending=False).head(10)\n",
        "sorted_listings_df[['id','name','summary','neighbourhood_cleansed','room_type','zipcode','accommodates','bathrooms','bedrooms','beds','price','review_scores_rating']]"
      ]
    },
    {
      "cell_type": "markdown",
      "metadata": {
        "id": "8VpIvRpTBrQf"
      },
      "source": [
        "Data Cleaning for Analyzing Impact of Reviews on Price"
      ]
    },
    {
      "cell_type": "code",
      "execution_count": null,
      "metadata": {
        "colab": {
          "base_uri": "https://localhost:8080/",
          "height": 1000
        },
        "id": "_pdS60JLz5-N",
        "outputId": "a102a0a2-8d24-43f9-9642-b1cad32bdc5a"
      },
      "outputs": [],
      "source": [
        "# How do the number of reviews and review scores impact the price of a listing?\n",
        "\n",
        "\n",
        "# Data cleaning\n",
        "review = listings_df[['id','name','summary','neighbourhood_cleansed','zipcode','property_type','room_type','accommodates','bathrooms','bedrooms','beds','price','review_scores_rating','number_of_reviews']]\n",
        "\n",
        "review = review.fillna(0) # replacing all NaN to -1\n",
        "\n",
        "review"
      ]
    },
    {
      "cell_type": "markdown",
      "metadata": {
        "id": "IbseRFfOC_M5"
      },
      "source": [
        "Split Dataset into Features and Target"
      ]
    },
    {
      "cell_type": "code",
      "execution_count": null,
      "metadata": {
        "id": "okpo6G1Az9l4"
      },
      "outputs": [],
      "source": [
        "#split dataset in features and target variable\n",
        "feature_cols = ['review_scores_rating','number_of_reviews']\n",
        "\n",
        "x = review[feature_cols] # Features\n",
        "y = review.price # Target variable\n",
        "\n",
        "# Split dataset into training set and test set\n",
        "x_train, x_test, y_train, y_test = train_test_split(x, y, test_size=0.3, random_state=1) # 70% training and 30% test"
      ]
    },
    {
      "cell_type": "markdown",
      "metadata": {
        "id": "9NsULgWqDAhe"
      },
      "source": [
        "Train Random Forest Regressor and Evaluate Accuracy"
      ]
    },
    {
      "cell_type": "code",
      "execution_count": null,
      "metadata": {
        "colab": {
          "base_uri": "https://localhost:8080/"
        },
        "id": "5D34_6Hrz-qq",
        "outputId": "8a5d0689-6116-475b-bc9f-c58700afb61c"
      },
      "outputs": [],
      "source": [
        "# Create and train model\n",
        "rf = RandomForestRegressor(n_estimators = 300, max_features = 'sqrt', max_depth = 7, random_state = 18)\n",
        "rf.fit(x_train, y_train)\n",
        "# Predict on test data\n",
        "prediction = rf.predict(x_test)\n",
        "# Compute mean squared error\n",
        "mse = mean_squared_error(y_test, prediction)\n",
        "rmse = mse**.5\n",
        "# Print results\n",
        "print(mse)\n",
        "print(rmse)\n",
        "r2 = r2_score(y_test, prediction, force_finite=False)\n",
        "print(r2)"
      ]
    },
    {
      "cell_type": "markdown",
      "metadata": {
        "id": "6Vm3MVUOPPG1"
      },
      "source": [
        "Predict the future prices of listings based on historical data and identified trends"
      ]
    },
    {
      "cell_type": "code",
      "execution_count": null,
      "metadata": {
        "id": "3aQhbXy3JDmk"
      },
      "outputs": [],
      "source": [
        "#split dataset in features and target variable\n",
        "feature_cols = ['zipcode','accommodates','bathrooms','bedrooms','beds']\n",
        "\n",
        "x = review[feature_cols] # Features\n",
        "y = review.price # Target variable\n",
        "\n",
        "# Split dataset into training set and test set\n",
        "x_train, x_test, y_train, y_test = train_test_split(x, y, test_size=0.3, random_state=1) # 70% training and 30% test"
      ]
    },
    {
      "cell_type": "markdown",
      "metadata": {
        "id": "w6gyZz8PDYrV"
      },
      "source": [
        " Train and Evaluate Random Forest Regressor"
      ]
    },
    {
      "cell_type": "code",
      "execution_count": null,
      "metadata": {
        "colab": {
          "base_uri": "https://localhost:8080/"
        },
        "id": "lSVah4Qv0Dr-",
        "outputId": "f1d4ad9e-8b2f-4c4d-9ac3-57992432017c"
      },
      "outputs": [],
      "source": [
        "# Create and train model\n",
        "rf = RandomForestRegressor(n_estimators = 500, max_features = 'sqrt', max_depth = 10, random_state = 20)\n",
        "rf.fit(x_train, y_train)\n",
        "# Predict on test data\n",
        "prediction = rf.predict(x_test)\n",
        "# Compute mean squared error\n",
        "mse = mean_squared_error(y_test, prediction)\n",
        "rmse = mse**.5\n",
        "# Print results\n",
        "print(mse)\n",
        "print(rmse)\n",
        "r2 = r2_score(y_test, prediction, force_finite=False)\n",
        "print(r2)"
      ]
    }
  ],
  "metadata": {
    "colab": {
      "provenance": []
    },
    "kernelspec": {
      "display_name": "Python 3",
      "name": "python3"
    },
    "language_info": {
      "name": "python"
    }
  },
  "nbformat": 4,
  "nbformat_minor": 0
}
