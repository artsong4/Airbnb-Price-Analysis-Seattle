{
 "cells": [
  {
   "cell_type": "markdown",
   "metadata": {
    "id": "41tQDWeQdQXQ"
   },
   "source": [
    "Load the Dataset (or you can load # outted the paths below and load your dataset from your computer)"
   ]
  },
  {
   "cell_type": "code",
   "execution_count": 1,
   "metadata": {
    "id": "PWqTaSmodHyo"
   },
   "outputs": [],
   "source": [
    "import pandas as pd\n",
    "\n",
    "# Paths to your CSV files\n",
    "calendar_path = './data/raw/calendar.csv'\n",
    "listings_path = './data/raw/listings.csv'\n",
    "reviews_path = './data/raw/reviews.csv'\n",
    "\n",
    "# Load the CSV files\n",
    "calendar_df = pd.read_csv(calendar_path)\n",
    "listings_df = pd.read_csv(listings_path)\n",
    "reviews_df = pd.read_csv(reviews_path)"
   ]
  },
  {
   "cell_type": "markdown",
   "metadata": {
    "id": "u_-1bkBYd1X3"
   },
   "source": [
    "Explore the Dataset"
   ]
  },
  {
   "cell_type": "code",
   "execution_count": 2,
   "metadata": {
    "colab": {
     "base_uri": "https://localhost:8080/"
    },
    "id": "PBcDJ1fvi54X",
    "outputId": "694a31c4-029b-42f9-9e6f-5869611702ef"
   },
   "outputs": [
    {
     "name": "stdout",
     "output_type": "stream",
     "text": [
      "Calendar DataFrame:\n",
      "   listing_id        date available   price\n",
      "0      241032  2016-01-04         t  $85.00\n",
      "1      241032  2016-01-05         t  $85.00\n",
      "2      241032  2016-01-06         f     NaN\n",
      "3      241032  2016-01-07         f     NaN\n",
      "4      241032  2016-01-08         f     NaN\n",
      "\n",
      "Listings DataFrame:\n",
      "        id                           listing_url       scrape_id last_scraped  \\\n",
      "0   241032   https://www.airbnb.com/rooms/241032  20160104002432   2016-01-04   \n",
      "1   953595   https://www.airbnb.com/rooms/953595  20160104002432   2016-01-04   \n",
      "2  3308979  https://www.airbnb.com/rooms/3308979  20160104002432   2016-01-04   \n",
      "3  7421966  https://www.airbnb.com/rooms/7421966  20160104002432   2016-01-04   \n",
      "4   278830   https://www.airbnb.com/rooms/278830  20160104002432   2016-01-04   \n",
      "\n",
      "                                  name  \\\n",
      "0         Stylish Queen Anne Apartment   \n",
      "1   Bright & Airy Queen Anne Apartment   \n",
      "2  New Modern House-Amazing water view   \n",
      "3                   Queen Anne Chateau   \n",
      "4       Charming craftsman 3 bdm house   \n",
      "\n",
      "                                             summary  \\\n",
      "0                                                NaN   \n",
      "1  Chemically sensitive? We've removed the irrita...   \n",
      "2  New modern house built in 2013.  Spectacular s...   \n",
      "3  A charming apartment that sits atop Queen Anne...   \n",
      "4  Cozy family craftman house in beautiful neighb...   \n",
      "\n",
      "                                               space  \\\n",
      "0  Make your self at home in this charming one-be...   \n",
      "1  Beautiful, hypoallergenic apartment in an extr...   \n",
      "2  Our house is modern, light and fresh with a wa...   \n",
      "3                                                NaN   \n",
      "4  Cozy family craftman house in beautiful neighb...   \n",
      "\n",
      "                                         description experiences_offered  \\\n",
      "0  Make your self at home in this charming one-be...                none   \n",
      "1  Chemically sensitive? We've removed the irrita...                none   \n",
      "2  New modern house built in 2013.  Spectacular s...                none   \n",
      "3  A charming apartment that sits atop Queen Anne...                none   \n",
      "4  Cozy family craftman house in beautiful neighb...                none   \n",
      "\n",
      "                               neighborhood_overview  ... review_scores_value  \\\n",
      "0                                                NaN  ...                10.0   \n",
      "1  Queen Anne is a wonderful, truly functional vi...  ...                10.0   \n",
      "2  Upper Queen Anne is a charming neighborhood fu...  ...                10.0   \n",
      "3                                                NaN  ...                 NaN   \n",
      "4  We are in the beautiful neighborhood of Queen ...  ...                 9.0   \n",
      "\n",
      "  requires_license license jurisdiction_names instant_bookable  \\\n",
      "0                f     NaN         WASHINGTON                f   \n",
      "1                f     NaN         WASHINGTON                f   \n",
      "2                f     NaN         WASHINGTON                f   \n",
      "3                f     NaN         WASHINGTON                f   \n",
      "4                f     NaN         WASHINGTON                f   \n",
      "\n",
      "  cancellation_policy  require_guest_profile_picture  \\\n",
      "0            moderate                              f   \n",
      "1              strict                              t   \n",
      "2              strict                              f   \n",
      "3            flexible                              f   \n",
      "4              strict                              f   \n",
      "\n",
      "  require_guest_phone_verification calculated_host_listings_count  \\\n",
      "0                                f                              2   \n",
      "1                                t                              6   \n",
      "2                                f                              2   \n",
      "3                                f                              1   \n",
      "4                                f                              1   \n",
      "\n",
      "  reviews_per_month  \n",
      "0              4.07  \n",
      "1              1.48  \n",
      "2              1.15  \n",
      "3               NaN  \n",
      "4              0.89  \n",
      "\n",
      "[5 rows x 92 columns]\n",
      "\n",
      "Reviews DataFrame:\n",
      "   listing_id        id        date  reviewer_id reviewer_name  \\\n",
      "0     7202016  38917982  2015-07-19     28943674        Bianca   \n",
      "1     7202016  39087409  2015-07-20     32440555         Frank   \n",
      "2     7202016  39820030  2015-07-26     37722850           Ian   \n",
      "3     7202016  40813543  2015-08-02     33671805        George   \n",
      "4     7202016  41986501  2015-08-10     34959538          Ming   \n",
      "\n",
      "                                            comments  \n",
      "0  Cute and cozy place. Perfect location to every...  \n",
      "1  Kelly has a great room in a very central locat...  \n",
      "2  Very spacious apartment, and in a great neighb...  \n",
      "3  Close to Seattle Center and all it has to offe...  \n",
      "4  Kelly was a great host and very accommodating ...  \n",
      "\n",
      "Calendar DataFrame Info:\n",
      "<class 'pandas.core.frame.DataFrame'>\n",
      "RangeIndex: 1393570 entries, 0 to 1393569\n",
      "Data columns (total 4 columns):\n",
      " #   Column      Non-Null Count    Dtype \n",
      "---  ------      --------------    ----- \n",
      " 0   listing_id  1393570 non-null  int64 \n",
      " 1   date        1393570 non-null  object\n",
      " 2   available   1393570 non-null  object\n",
      " 3   price       934542 non-null   object\n",
      "dtypes: int64(1), object(3)\n",
      "memory usage: 42.5+ MB\n",
      "None\n",
      "\n",
      "Listings DataFrame Info:\n",
      "<class 'pandas.core.frame.DataFrame'>\n",
      "RangeIndex: 3818 entries, 0 to 3817\n",
      "Data columns (total 92 columns):\n",
      " #   Column                            Non-Null Count  Dtype  \n",
      "---  ------                            --------------  -----  \n",
      " 0   id                                3818 non-null   int64  \n",
      " 1   listing_url                       3818 non-null   object \n",
      " 2   scrape_id                         3818 non-null   int64  \n",
      " 3   last_scraped                      3818 non-null   object \n",
      " 4   name                              3818 non-null   object \n",
      " 5   summary                           3641 non-null   object \n",
      " 6   space                             3249 non-null   object \n",
      " 7   description                       3818 non-null   object \n",
      " 8   experiences_offered               3818 non-null   object \n",
      " 9   neighborhood_overview             2786 non-null   object \n",
      " 10  notes                             2212 non-null   object \n",
      " 11  transit                           2884 non-null   object \n",
      " 12  thumbnail_url                     3498 non-null   object \n",
      " 13  medium_url                        3498 non-null   object \n",
      " 14  picture_url                       3818 non-null   object \n",
      " 15  xl_picture_url                    3498 non-null   object \n",
      " 16  host_id                           3818 non-null   int64  \n",
      " 17  host_url                          3818 non-null   object \n",
      " 18  host_name                         3816 non-null   object \n",
      " 19  host_since                        3816 non-null   object \n",
      " 20  host_location                     3810 non-null   object \n",
      " 21  host_about                        2959 non-null   object \n",
      " 22  host_response_time                3295 non-null   object \n",
      " 23  host_response_rate                3295 non-null   object \n",
      " 24  host_acceptance_rate              3045 non-null   object \n",
      " 25  host_is_superhost                 3816 non-null   object \n",
      " 26  host_thumbnail_url                3816 non-null   object \n",
      " 27  host_picture_url                  3816 non-null   object \n",
      " 28  host_neighbourhood                3518 non-null   object \n",
      " 29  host_listings_count               3816 non-null   float64\n",
      " 30  host_total_listings_count         3816 non-null   float64\n",
      " 31  host_verifications                3816 non-null   object \n",
      " 32  host_has_profile_pic              3816 non-null   object \n",
      " 33  host_identity_verified            3816 non-null   object \n",
      " 34  street                            3818 non-null   object \n",
      " 35  neighbourhood                     3402 non-null   object \n",
      " 36  neighbourhood_cleansed            3818 non-null   object \n",
      " 37  neighbourhood_group_cleansed      3818 non-null   object \n",
      " 38  city                              3818 non-null   object \n",
      " 39  state                             3818 non-null   object \n",
      " 40  zipcode                           3811 non-null   object \n",
      " 41  market                            3818 non-null   object \n",
      " 42  smart_location                    3818 non-null   object \n",
      " 43  country_code                      3818 non-null   object \n",
      " 44  country                           3818 non-null   object \n",
      " 45  latitude                          3818 non-null   float64\n",
      " 46  longitude                         3818 non-null   float64\n",
      " 47  is_location_exact                 3818 non-null   object \n",
      " 48  property_type                     3817 non-null   object \n",
      " 49  room_type                         3818 non-null   object \n",
      " 50  accommodates                      3818 non-null   int64  \n",
      " 51  bathrooms                         3802 non-null   float64\n",
      " 52  bedrooms                          3812 non-null   float64\n",
      " 53  beds                              3817 non-null   float64\n",
      " 54  bed_type                          3818 non-null   object \n",
      " 55  amenities                         3818 non-null   object \n",
      " 56  square_feet                       97 non-null     float64\n",
      " 57  price                             3818 non-null   object \n",
      " 58  weekly_price                      2009 non-null   object \n",
      " 59  monthly_price                     1517 non-null   object \n",
      " 60  security_deposit                  1866 non-null   object \n",
      " 61  cleaning_fee                      2788 non-null   object \n",
      " 62  guests_included                   3818 non-null   int64  \n",
      " 63  extra_people                      3818 non-null   object \n",
      " 64  minimum_nights                    3818 non-null   int64  \n",
      " 65  maximum_nights                    3818 non-null   int64  \n",
      " 66  calendar_updated                  3818 non-null   object \n",
      " 67  has_availability                  3818 non-null   object \n",
      " 68  availability_30                   3818 non-null   int64  \n",
      " 69  availability_60                   3818 non-null   int64  \n",
      " 70  availability_90                   3818 non-null   int64  \n",
      " 71  availability_365                  3818 non-null   int64  \n",
      " 72  calendar_last_scraped             3818 non-null   object \n",
      " 73  number_of_reviews                 3818 non-null   int64  \n",
      " 74  first_review                      3191 non-null   object \n",
      " 75  last_review                       3191 non-null   object \n",
      " 76  review_scores_rating              3171 non-null   float64\n",
      " 77  review_scores_accuracy            3160 non-null   float64\n",
      " 78  review_scores_cleanliness         3165 non-null   float64\n",
      " 79  review_scores_checkin             3160 non-null   float64\n",
      " 80  review_scores_communication       3167 non-null   float64\n",
      " 81  review_scores_location            3163 non-null   float64\n",
      " 82  review_scores_value               3162 non-null   float64\n",
      " 83  requires_license                  3818 non-null   object \n",
      " 84  license                           0 non-null      float64\n",
      " 85  jurisdiction_names                3818 non-null   object \n",
      " 86  instant_bookable                  3818 non-null   object \n",
      " 87  cancellation_policy               3818 non-null   object \n",
      " 88  require_guest_profile_picture     3818 non-null   object \n",
      " 89  require_guest_phone_verification  3818 non-null   object \n",
      " 90  calculated_host_listings_count    3818 non-null   int64  \n",
      " 91  reviews_per_month                 3191 non-null   float64\n",
      "dtypes: float64(17), int64(13), object(62)\n",
      "memory usage: 2.7+ MB\n",
      "None\n",
      "\n",
      "Reviews DataFrame Info:\n",
      "<class 'pandas.core.frame.DataFrame'>\n",
      "RangeIndex: 84849 entries, 0 to 84848\n",
      "Data columns (total 6 columns):\n",
      " #   Column         Non-Null Count  Dtype \n",
      "---  ------         --------------  ----- \n",
      " 0   listing_id     84849 non-null  int64 \n",
      " 1   id             84849 non-null  int64 \n",
      " 2   date           84849 non-null  object\n",
      " 3   reviewer_id    84849 non-null  int64 \n",
      " 4   reviewer_name  84849 non-null  object\n",
      " 5   comments       84831 non-null  object\n",
      "dtypes: int64(3), object(3)\n",
      "memory usage: 3.9+ MB\n",
      "None\n"
     ]
    }
   ],
   "source": [
    "# Display the first few rows of each DataFrame to understand their structure\n",
    "print(\"Calendar DataFrame:\")\n",
    "print(calendar_df.head())\n",
    "\n",
    "print(\"\\nListings DataFrame:\")\n",
    "print(listings_df.head())\n",
    "\n",
    "print(\"\\nReviews DataFrame:\")\n",
    "print(reviews_df.head())\n",
    "\n",
    "# Display summary info for each DataFrame\n",
    "print(\"\\nCalendar DataFrame Info:\")\n",
    "print(calendar_df.info())\n",
    "\n",
    "print(\"\\nListings DataFrame Info:\")\n",
    "print(listings_df.info())\n",
    "\n",
    "print(\"\\nReviews DataFrame Info:\")\n",
    "print(reviews_df.info())\n"
   ]
  },
  {
   "cell_type": "markdown",
   "metadata": {
    "id": "WJh6fPSSd8FH"
   },
   "source": [
    "calendar dataframe cleaning"
   ]
  },
  {
   "cell_type": "markdown",
   "metadata": {
    "id": "yYvvDyZdgXOY"
   },
   "source": [
    "1. price to numeric after removing the dollar sign\n",
    "2. date to datetime\n",
    "3. available to boolean\n",
    "4. handle missing values"
   ]
  },
  {
   "cell_type": "code",
   "execution_count": 3,
   "metadata": {
    "colab": {
     "base_uri": "https://localhost:8080/"
    },
    "id": "EBLQIjtpdH3n",
    "outputId": "314fac96-9b87-4481-a1d3-a4a4b0ce5118"
   },
   "outputs": [
    {
     "name": "stdout",
     "output_type": "stream",
     "text": [
      "Initial unique values in 'available': ['t' 'f']\n",
      "Unique values in 'available' after mapping: [ True False]\n",
      "    listing_id       date  available  price\n",
      "0       241032 2016-01-04       True   85.0\n",
      "1       241032 2016-01-05       True   85.0\n",
      "9       241032 2016-01-13       True   85.0\n",
      "10      241032 2016-01-14       True   85.0\n",
      "14      241032 2016-01-18       True   85.0\n",
      "<class 'pandas.core.frame.DataFrame'>\n",
      "Index: 934542 entries, 0 to 1393213\n",
      "Data columns (total 4 columns):\n",
      " #   Column      Non-Null Count   Dtype         \n",
      "---  ------      --------------   -----         \n",
      " 0   listing_id  934542 non-null  int64         \n",
      " 1   date        934542 non-null  datetime64[ns]\n",
      " 2   available   934542 non-null  bool          \n",
      " 3   price       934542 non-null  float64       \n",
      "dtypes: bool(1), datetime64[ns](1), float64(1), int64(1)\n",
      "memory usage: 29.4 MB\n",
      "None\n"
     ]
    }
   ],
   "source": [
    "# Inspect the initial values in the 'available' column\n",
    "print(\"Initial unique values in 'available':\", calendar_df['available'].unique())\n",
    "\n",
    "# Convert available to boolean if values are 't' and 'f'\n",
    "calendar_df['available'] = calendar_df['available'].map({'t': True, 'f': False})\n",
    "\n",
    "# Check the unique values in 'available' after mapping\n",
    "print(\"Unique values in 'available' after mapping:\", calendar_df['available'].unique())\n",
    "\n",
    "# Remove dollar sign and convert price to numeric\n",
    "calendar_df['price'] = calendar_df['price'].replace('[\\$,]', '', regex=True).astype(float)\n",
    "\n",
    "# Convert date to datetime\n",
    "calendar_df['date'] = pd.to_datetime(calendar_df['date'])\n",
    "\n",
    "# Handle missing values by dropping rows where price or available is NaN\n",
    "calendar_df.dropna(subset=['price', 'available'], inplace=True)\n",
    "\n",
    "# Display cleaned Calendar DataFrame\n",
    "print(calendar_df.head())\n",
    "print(calendar_df.info())\n"
   ]
  },
  {
   "cell_type": "markdown",
   "metadata": {
    "id": "wddKcFqhgeZP"
   },
   "source": [
    "Listings dataframe cleaning"
   ]
  },
  {
   "cell_type": "markdown",
   "metadata": {
    "id": "fAt48zLyu--O"
   },
   "source": [
    "Remove Unwanted Columns"
   ]
  },
  {
   "cell_type": "code",
   "execution_count": 4,
   "metadata": {
    "colab": {
     "base_uri": "https://localhost:8080/"
    },
    "id": "xis-lQeGdH6L",
    "outputId": "cf629c3b-1347-4a0f-cc3c-9e3d1459cafb"
   },
   "outputs": [
    {
     "name": "stdout",
     "output_type": "stream",
     "text": [
      "        id                           listing_url  \\\n",
      "0   241032   https://www.airbnb.com/rooms/241032   \n",
      "1   953595   https://www.airbnb.com/rooms/953595   \n",
      "2  3308979  https://www.airbnb.com/rooms/3308979   \n",
      "3  7421966  https://www.airbnb.com/rooms/7421966   \n",
      "4   278830   https://www.airbnb.com/rooms/278830   \n",
      "\n",
      "                                  name  \\\n",
      "0         Stylish Queen Anne Apartment   \n",
      "1   Bright & Airy Queen Anne Apartment   \n",
      "2  New Modern House-Amazing water view   \n",
      "3                   Queen Anne Chateau   \n",
      "4       Charming craftsman 3 bdm house   \n",
      "\n",
      "                                             summary  \\\n",
      "0                                                NaN   \n",
      "1  Chemically sensitive? We've removed the irrita...   \n",
      "2  New modern house built in 2013.  Spectacular s...   \n",
      "3  A charming apartment that sits atop Queen Anne...   \n",
      "4  Cozy family craftman house in beautiful neighb...   \n",
      "\n",
      "                                         description  \\\n",
      "0  Make your self at home in this charming one-be...   \n",
      "1  Chemically sensitive? We've removed the irrita...   \n",
      "2  New modern house built in 2013.  Spectacular s...   \n",
      "3  A charming apartment that sits atop Queen Anne...   \n",
      "4  Cozy family craftman house in beautiful neighb...   \n",
      "\n",
      "                               neighborhood_overview  \\\n",
      "0                                                NaN   \n",
      "1  Queen Anne is a wonderful, truly functional vi...   \n",
      "2  Upper Queen Anne is a charming neighborhood fu...   \n",
      "3                                                NaN   \n",
      "4  We are in the beautiful neighborhood of Queen ...   \n",
      "\n",
      "                                               notes  \\\n",
      "0                                                NaN   \n",
      "1  What's up with the free pillows?  Our home was...   \n",
      "2  Our house is located just 5 short blocks to To...   \n",
      "3                                                NaN   \n",
      "4                                          Belltown    \n",
      "\n",
      "                                             transit   host_id host_name  ...  \\\n",
      "0                                                NaN    956883     Maija  ...   \n",
      "1  Convenient bus stops are just down the block, ...   5177328    Andrea  ...   \n",
      "2  A bus stop is just 2 blocks away.   Easy bus a...  16708587      Jill  ...   \n",
      "3                                                NaN   9851441     Emily  ...   \n",
      "4  The nearest public transit bus (D Line) is 2 b...   1452570     Emily  ...   \n",
      "\n",
      "  review_scores_communication review_scores_location review_scores_value  \\\n",
      "0                        10.0                    9.0                10.0   \n",
      "1                        10.0                   10.0                10.0   \n",
      "2                        10.0                   10.0                10.0   \n",
      "3                         NaN                    NaN                 NaN   \n",
      "4                        10.0                    9.0                 9.0   \n",
      "\n",
      "  jurisdiction_names instant_bookable cancellation_policy  \\\n",
      "0         WASHINGTON                f            moderate   \n",
      "1         WASHINGTON                f              strict   \n",
      "2         WASHINGTON                f              strict   \n",
      "3         WASHINGTON                f            flexible   \n",
      "4         WASHINGTON                f              strict   \n",
      "\n",
      "   require_guest_profile_picture  require_guest_phone_verification  \\\n",
      "0                              f                                 f   \n",
      "1                              t                                 t   \n",
      "2                              f                                 f   \n",
      "3                              f                                 f   \n",
      "4                              f                                 f   \n",
      "\n",
      "  calculated_host_listings_count reviews_per_month  \n",
      "0                              2              4.07  \n",
      "1                              6              1.48  \n",
      "2                              2              1.15  \n",
      "3                              1               NaN  \n",
      "4                              1              0.89  \n",
      "\n",
      "[5 rows x 70 columns]\n",
      "<class 'pandas.core.frame.DataFrame'>\n",
      "RangeIndex: 3818 entries, 0 to 3817\n",
      "Data columns (total 70 columns):\n",
      " #   Column                            Non-Null Count  Dtype  \n",
      "---  ------                            --------------  -----  \n",
      " 0   id                                3818 non-null   int64  \n",
      " 1   listing_url                       3818 non-null   object \n",
      " 2   name                              3818 non-null   object \n",
      " 3   summary                           3641 non-null   object \n",
      " 4   description                       3818 non-null   object \n",
      " 5   neighborhood_overview             2786 non-null   object \n",
      " 6   notes                             2212 non-null   object \n",
      " 7   transit                           2884 non-null   object \n",
      " 8   host_id                           3818 non-null   int64  \n",
      " 9   host_name                         3816 non-null   object \n",
      " 10  host_since                        3816 non-null   object \n",
      " 11  host_response_time                3295 non-null   object \n",
      " 12  host_response_rate                3295 non-null   object \n",
      " 13  host_acceptance_rate              3045 non-null   object \n",
      " 14  host_is_superhost                 3816 non-null   object \n",
      " 15  host_neighbourhood                3518 non-null   object \n",
      " 16  host_listings_count               3816 non-null   float64\n",
      " 17  host_total_listings_count         3816 non-null   float64\n",
      " 18  host_verifications                3816 non-null   object \n",
      " 19  host_has_profile_pic              3816 non-null   object \n",
      " 20  host_identity_verified            3816 non-null   object \n",
      " 21  street                            3818 non-null   object \n",
      " 22  neighbourhood_cleansed            3818 non-null   object \n",
      " 23  neighbourhood_group_cleansed      3818 non-null   object \n",
      " 24  city                              3818 non-null   object \n",
      " 25  state                             3818 non-null   object \n",
      " 26  zipcode                           3811 non-null   object \n",
      " 27  market                            3818 non-null   object \n",
      " 28  smart_location                    3818 non-null   object \n",
      " 29  country_code                      3818 non-null   object \n",
      " 30  country                           3818 non-null   object \n",
      " 31  latitude                          3818 non-null   float64\n",
      " 32  longitude                         3818 non-null   float64\n",
      " 33  is_location_exact                 3818 non-null   object \n",
      " 34  property_type                     3817 non-null   object \n",
      " 35  room_type                         3818 non-null   object \n",
      " 36  accommodates                      3818 non-null   int64  \n",
      " 37  bathrooms                         3802 non-null   float64\n",
      " 38  bedrooms                          3812 non-null   float64\n",
      " 39  beds                              3817 non-null   float64\n",
      " 40  bed_type                          3818 non-null   object \n",
      " 41  amenities                         3818 non-null   object \n",
      " 42  square_feet                       97 non-null     float64\n",
      " 43  price                             3818 non-null   object \n",
      " 44  weekly_price                      2009 non-null   object \n",
      " 45  monthly_price                     1517 non-null   object \n",
      " 46  security_deposit                  1866 non-null   object \n",
      " 47  cleaning_fee                      2788 non-null   object \n",
      " 48  guests_included                   3818 non-null   int64  \n",
      " 49  extra_people                      3818 non-null   object \n",
      " 50  minimum_nights                    3818 non-null   int64  \n",
      " 51  maximum_nights                    3818 non-null   int64  \n",
      " 52  has_availability                  3818 non-null   object \n",
      " 53  number_of_reviews                 3818 non-null   int64  \n",
      " 54  first_review                      3191 non-null   object \n",
      " 55  last_review                       3191 non-null   object \n",
      " 56  review_scores_rating              3171 non-null   float64\n",
      " 57  review_scores_accuracy            3160 non-null   float64\n",
      " 58  review_scores_cleanliness         3165 non-null   float64\n",
      " 59  review_scores_checkin             3160 non-null   float64\n",
      " 60  review_scores_communication       3167 non-null   float64\n",
      " 61  review_scores_location            3163 non-null   float64\n",
      " 62  review_scores_value               3162 non-null   float64\n",
      " 63  jurisdiction_names                3818 non-null   object \n",
      " 64  instant_bookable                  3818 non-null   object \n",
      " 65  cancellation_policy               3818 non-null   object \n",
      " 66  require_guest_profile_picture     3818 non-null   object \n",
      " 67  require_guest_phone_verification  3818 non-null   object \n",
      " 68  calculated_host_listings_count    3818 non-null   int64  \n",
      " 69  reviews_per_month                 3191 non-null   float64\n",
      "dtypes: float64(16), int64(8), object(46)\n",
      "memory usage: 2.0+ MB\n",
      "None\n"
     ]
    }
   ],
   "source": [
    "# List of columns to remove\n",
    "columns_to_remove = [\n",
    "    'scrape_id', 'last_scraped', 'space', 'experiences_offered', 'thumbnail_url',\n",
    "    'medium_url', 'picture_url', 'xl_picture_url', 'host_url', 'host_location', 'host_about',\n",
    "    'host_thumbnail_url', 'host_picture_url', 'neighbourhood', 'calendar_updated',\n",
    "    'calendar_last_scraped', 'requires_license', 'license', 'availability_30',\n",
    "    'availability_60', 'availability_90', 'availability_365'\n",
    "]\n",
    "\n",
    "# Remove the specified columns\n",
    "listings_df.drop(columns=columns_to_remove, inplace=True)\n",
    "\n",
    "# Display the updated Listings DataFrame\n",
    "print(listings_df.head())\n",
    "print(listings_df.info())\n",
    "\n"
   ]
  },
  {
   "cell_type": "markdown",
   "metadata": {
    "id": "k-p0HpJngnJv"
   },
   "source": [
    "Price-Related Columns to Numeric and Handle Missing Values\n",
    "\n",
    "filling missing values in specific text columns with empty strings. Any missing values in these columns are replaced with an empty string rather than leaving them as NaN (Not a Number), which can cause issues in data processing and analysis."
   ]
  },
  {
   "cell_type": "code",
   "execution_count": 5,
   "metadata": {
    "colab": {
     "base_uri": "https://localhost:8080/"
    },
    "id": "Z-goIiYndH8f",
    "outputId": "eff69f83-81a3-49e4-d294-ce1cef6672a8"
   },
   "outputs": [
    {
     "name": "stdout",
     "output_type": "stream",
     "text": [
      "        id                           listing_url  \\\n",
      "0   241032   https://www.airbnb.com/rooms/241032   \n",
      "1   953595   https://www.airbnb.com/rooms/953595   \n",
      "2  3308979  https://www.airbnb.com/rooms/3308979   \n",
      "3  7421966  https://www.airbnb.com/rooms/7421966   \n",
      "4   278830   https://www.airbnb.com/rooms/278830   \n",
      "\n",
      "                                  name  \\\n",
      "0         Stylish Queen Anne Apartment   \n",
      "1   Bright & Airy Queen Anne Apartment   \n",
      "2  New Modern House-Amazing water view   \n",
      "3                   Queen Anne Chateau   \n",
      "4       Charming craftsman 3 bdm house   \n",
      "\n",
      "                                             summary  \\\n",
      "0                                                      \n",
      "1  Chemically sensitive? We've removed the irrita...   \n",
      "2  New modern house built in 2013.  Spectacular s...   \n",
      "3  A charming apartment that sits atop Queen Anne...   \n",
      "4  Cozy family craftman house in beautiful neighb...   \n",
      "\n",
      "                                         description  \\\n",
      "0  Make your self at home in this charming one-be...   \n",
      "1  Chemically sensitive? We've removed the irrita...   \n",
      "2  New modern house built in 2013.  Spectacular s...   \n",
      "3  A charming apartment that sits atop Queen Anne...   \n",
      "4  Cozy family craftman house in beautiful neighb...   \n",
      "\n",
      "                               neighborhood_overview  \\\n",
      "0                                                      \n",
      "1  Queen Anne is a wonderful, truly functional vi...   \n",
      "2  Upper Queen Anne is a charming neighborhood fu...   \n",
      "3                                                      \n",
      "4  We are in the beautiful neighborhood of Queen ...   \n",
      "\n",
      "                                               notes  \\\n",
      "0                                                      \n",
      "1  What's up with the free pillows?  Our home was...   \n",
      "2  Our house is located just 5 short blocks to To...   \n",
      "3                                                      \n",
      "4                                          Belltown    \n",
      "\n",
      "                                             transit   host_id host_name  ...  \\\n",
      "0                                                       956883     Maija  ...   \n",
      "1  Convenient bus stops are just down the block, ...   5177328    Andrea  ...   \n",
      "2  A bus stop is just 2 blocks away.   Easy bus a...  16708587      Jill  ...   \n",
      "3                                                      9851441     Emily  ...   \n",
      "4  The nearest public transit bus (D Line) is 2 b...   1452570     Emily  ...   \n",
      "\n",
      "  review_scores_communication review_scores_location review_scores_value  \\\n",
      "0                        10.0                    9.0                10.0   \n",
      "1                        10.0                   10.0                10.0   \n",
      "2                        10.0                   10.0                10.0   \n",
      "3                         NaN                    NaN                 NaN   \n",
      "4                        10.0                    9.0                 9.0   \n",
      "\n",
      "  jurisdiction_names instant_bookable cancellation_policy  \\\n",
      "0         WASHINGTON                f            moderate   \n",
      "1         WASHINGTON                f              strict   \n",
      "2         WASHINGTON                f              strict   \n",
      "3         WASHINGTON                f            flexible   \n",
      "4         WASHINGTON                f              strict   \n",
      "\n",
      "   require_guest_profile_picture  require_guest_phone_verification  \\\n",
      "0                              f                                 f   \n",
      "1                              t                                 t   \n",
      "2                              f                                 f   \n",
      "3                              f                                 f   \n",
      "4                              f                                 f   \n",
      "\n",
      "  calculated_host_listings_count reviews_per_month  \n",
      "0                              2              4.07  \n",
      "1                              6              1.48  \n",
      "2                              2              1.15  \n",
      "3                              1               NaN  \n",
      "4                              1              0.89  \n",
      "\n",
      "[5 rows x 70 columns]\n",
      "<class 'pandas.core.frame.DataFrame'>\n",
      "RangeIndex: 3818 entries, 0 to 3817\n",
      "Data columns (total 70 columns):\n",
      " #   Column                            Non-Null Count  Dtype         \n",
      "---  ------                            --------------  -----         \n",
      " 0   id                                3818 non-null   int64         \n",
      " 1   listing_url                       3818 non-null   object        \n",
      " 2   name                              3818 non-null   object        \n",
      " 3   summary                           3818 non-null   object        \n",
      " 4   description                       3818 non-null   object        \n",
      " 5   neighborhood_overview             3818 non-null   object        \n",
      " 6   notes                             3818 non-null   object        \n",
      " 7   transit                           3818 non-null   object        \n",
      " 8   host_id                           3818 non-null   int64         \n",
      " 9   host_name                         3816 non-null   object        \n",
      " 10  host_since                        3816 non-null   datetime64[ns]\n",
      " 11  host_response_time                3295 non-null   object        \n",
      " 12  host_response_rate                3295 non-null   object        \n",
      " 13  host_acceptance_rate              3045 non-null   object        \n",
      " 14  host_is_superhost                 3816 non-null   object        \n",
      " 15  host_neighbourhood                3518 non-null   object        \n",
      " 16  host_listings_count               3816 non-null   float64       \n",
      " 17  host_total_listings_count         3816 non-null   float64       \n",
      " 18  host_verifications                3816 non-null   object        \n",
      " 19  host_has_profile_pic              3816 non-null   object        \n",
      " 20  host_identity_verified            3816 non-null   object        \n",
      " 21  street                            3818 non-null   object        \n",
      " 22  neighbourhood_cleansed            3818 non-null   object        \n",
      " 23  neighbourhood_group_cleansed      3818 non-null   object        \n",
      " 24  city                              3818 non-null   object        \n",
      " 25  state                             3818 non-null   object        \n",
      " 26  zipcode                           3811 non-null   object        \n",
      " 27  market                            3818 non-null   object        \n",
      " 28  smart_location                    3818 non-null   object        \n",
      " 29  country_code                      3818 non-null   object        \n",
      " 30  country                           3818 non-null   object        \n",
      " 31  latitude                          3818 non-null   float64       \n",
      " 32  longitude                         3818 non-null   float64       \n",
      " 33  is_location_exact                 3818 non-null   object        \n",
      " 34  property_type                     3817 non-null   object        \n",
      " 35  room_type                         3818 non-null   object        \n",
      " 36  accommodates                      3818 non-null   int64         \n",
      " 37  bathrooms                         3802 non-null   float64       \n",
      " 38  bedrooms                          3812 non-null   float64       \n",
      " 39  beds                              3817 non-null   float64       \n",
      " 40  bed_type                          3818 non-null   object        \n",
      " 41  amenities                         3818 non-null   object        \n",
      " 42  square_feet                       97 non-null     float64       \n",
      " 43  price                             3818 non-null   float64       \n",
      " 44  weekly_price                      2009 non-null   float64       \n",
      " 45  monthly_price                     1517 non-null   float64       \n",
      " 46  security_deposit                  1866 non-null   float64       \n",
      " 47  cleaning_fee                      2788 non-null   float64       \n",
      " 48  guests_included                   3818 non-null   int64         \n",
      " 49  extra_people                      3818 non-null   float64       \n",
      " 50  minimum_nights                    3818 non-null   int64         \n",
      " 51  maximum_nights                    3818 non-null   int64         \n",
      " 52  has_availability                  3818 non-null   object        \n",
      " 53  number_of_reviews                 3818 non-null   int64         \n",
      " 54  first_review                      3191 non-null   datetime64[ns]\n",
      " 55  last_review                       3191 non-null   datetime64[ns]\n",
      " 56  review_scores_rating              3171 non-null   float64       \n",
      " 57  review_scores_accuracy            3160 non-null   float64       \n",
      " 58  review_scores_cleanliness         3165 non-null   float64       \n",
      " 59  review_scores_checkin             3160 non-null   float64       \n",
      " 60  review_scores_communication       3167 non-null   float64       \n",
      " 61  review_scores_location            3163 non-null   float64       \n",
      " 62  review_scores_value               3162 non-null   float64       \n",
      " 63  jurisdiction_names                3818 non-null   object        \n",
      " 64  instant_bookable                  3818 non-null   object        \n",
      " 65  cancellation_policy               3818 non-null   object        \n",
      " 66  require_guest_profile_picture     3818 non-null   object        \n",
      " 67  require_guest_phone_verification  3818 non-null   object        \n",
      " 68  calculated_host_listings_count    3818 non-null   int64         \n",
      " 69  reviews_per_month                 3191 non-null   float64       \n",
      "dtypes: datetime64[ns](3), float64(22), int64(8), object(37)\n",
      "memory usage: 2.0+ MB\n",
      "None\n"
     ]
    }
   ],
   "source": [
    "# Remove dollar signs and convert price-related columns to numeric\n",
    "price_columns = ['price', 'weekly_price', 'monthly_price', 'security_deposit', 'cleaning_fee', 'extra_people']\n",
    "for col in price_columns:\n",
    "    listings_df[col] = listings_df[col].replace('[\\$,]', '', regex=True).astype(float)\n",
    "\n",
    "# Convert date columns to datetime\n",
    "date_columns = ['host_since', 'first_review', 'last_review']\n",
    "for col in date_columns:\n",
    "    listings_df[col] = pd.to_datetime(listings_df[col])\n",
    "\n",
    "# Fill missing values with empty strings for text columns\n",
    "text_columns = ['summary', 'neighborhood_overview', 'notes', 'transit']\n",
    "listings_df[text_columns] = listings_df[text_columns].fillna('')\n",
    "\n",
    "# Display the cleaned Listings DataFrame\n",
    "print(listings_df.head())\n",
    "print(listings_df.info())\n"
   ]
  },
  {
   "cell_type": "markdown",
   "metadata": {
    "id": "4oBQkyJPgs3-"
   },
   "source": [
    "Feature Engineering for Pricing Strategy"
   ]
  },
  {
   "cell_type": "code",
   "execution_count": 6,
   "metadata": {
    "colab": {
     "base_uri": "https://localhost:8080/"
    },
    "id": "ketC1hmCdH_J",
    "outputId": "d3971a5b-2db4-4fbc-ef15-1d806c6c4d15"
   },
   "outputs": [
    {
     "name": "stdout",
     "output_type": "stream",
     "text": [
      "        id                           listing_url  \\\n",
      "0   241032   https://www.airbnb.com/rooms/241032   \n",
      "1   953595   https://www.airbnb.com/rooms/953595   \n",
      "2  3308979  https://www.airbnb.com/rooms/3308979   \n",
      "3  7421966  https://www.airbnb.com/rooms/7421966   \n",
      "4   278830   https://www.airbnb.com/rooms/278830   \n",
      "\n",
      "                                  name  \\\n",
      "0         Stylish Queen Anne Apartment   \n",
      "1   Bright & Airy Queen Anne Apartment   \n",
      "2  New Modern House-Amazing water view   \n",
      "3                   Queen Anne Chateau   \n",
      "4       Charming craftsman 3 bdm house   \n",
      "\n",
      "                                             summary  \\\n",
      "0                                                      \n",
      "1  Chemically sensitive? We've removed the irrita...   \n",
      "2  New modern house built in 2013.  Spectacular s...   \n",
      "3  A charming apartment that sits atop Queen Anne...   \n",
      "4  Cozy family craftman house in beautiful neighb...   \n",
      "\n",
      "                                         description  \\\n",
      "0  Make your self at home in this charming one-be...   \n",
      "1  Chemically sensitive? We've removed the irrita...   \n",
      "2  New modern house built in 2013.  Spectacular s...   \n",
      "3  A charming apartment that sits atop Queen Anne...   \n",
      "4  Cozy family craftman house in beautiful neighb...   \n",
      "\n",
      "                               neighborhood_overview  \\\n",
      "0                                                      \n",
      "1  Queen Anne is a wonderful, truly functional vi...   \n",
      "2  Upper Queen Anne is a charming neighborhood fu...   \n",
      "3                                                      \n",
      "4  We are in the beautiful neighborhood of Queen ...   \n",
      "\n",
      "                                               notes  \\\n",
      "0                                                      \n",
      "1  What's up with the free pillows?  Our home was...   \n",
      "2  Our house is located just 5 short blocks to To...   \n",
      "3                                                      \n",
      "4                                          Belltown    \n",
      "\n",
      "                                             transit   host_id host_name  ...  \\\n",
      "0                                                       956883     Maija  ...   \n",
      "1  Convenient bus stops are just down the block, ...   5177328    Andrea  ...   \n",
      "2  A bus stop is just 2 blocks away.   Easy bus a...  16708587      Jill  ...   \n",
      "3                                                      9851441     Emily  ...   \n",
      "4  The nearest public transit bus (D Line) is 2 b...   1452570     Emily  ...   \n",
      "\n",
      "  review_scores_value jurisdiction_names instant_bookable cancellation_policy  \\\n",
      "0                10.0         WASHINGTON                f            moderate   \n",
      "1                10.0         WASHINGTON                f              strict   \n",
      "2                10.0         WASHINGTON                f              strict   \n",
      "3                 NaN         WASHINGTON                f            flexible   \n",
      "4                 9.0         WASHINGTON                f              strict   \n",
      "\n",
      "  require_guest_profile_picture require_guest_phone_verification  \\\n",
      "0                             f                                f   \n",
      "1                             t                                t   \n",
      "2                             f                                f   \n",
      "3                             f                                f   \n",
      "4                             f                                f   \n",
      "\n",
      "   calculated_host_listings_count  reviews_per_month price_per_bedroom  \\\n",
      "0                               2               4.07              85.0   \n",
      "1                               6               1.48             150.0   \n",
      "2                               2               1.15             195.0   \n",
      "3                               1                NaN               inf   \n",
      "4                               1               0.89             150.0   \n",
      "\n",
      "  price_per_guest  \n",
      "0       21.250000  \n",
      "1       37.500000  \n",
      "2       88.636364  \n",
      "3       33.333333  \n",
      "4       75.000000  \n",
      "\n",
      "[5 rows x 72 columns]\n"
     ]
    }
   ],
   "source": [
    "# Create new features\n",
    "listings_df['price_per_bedroom'] = listings_df['price'] / listings_df['bedrooms']\n",
    "listings_df['price_per_guest'] = listings_df['price'] / listings_df['accommodates']\n",
    "\n",
    "# Display the updated Listings DataFrame with new features\n",
    "print(listings_df.head())\n"
   ]
  },
  {
   "cell_type": "markdown",
   "metadata": {
    "id": "nHf-XII4wvLZ"
   },
   "source": [
    "Final Checks"
   ]
  },
  {
   "cell_type": "code",
   "execution_count": 7,
   "metadata": {
    "colab": {
     "base_uri": "https://localhost:8080/"
    },
    "id": "0bFRoih6wstn",
    "outputId": "01071b2d-6d53-4b79-af0e-911a7ff5d5c9"
   },
   "outputs": [
    {
     "name": "stdout",
     "output_type": "stream",
     "text": [
      "host_name                         2\n",
      "host_since                        2\n",
      "host_response_time              523\n",
      "host_response_rate              523\n",
      "host_acceptance_rate            773\n",
      "host_is_superhost                 2\n",
      "host_neighbourhood              300\n",
      "host_listings_count               2\n",
      "host_total_listings_count         2\n",
      "host_verifications                2\n",
      "host_has_profile_pic              2\n",
      "host_identity_verified            2\n",
      "zipcode                           7\n",
      "property_type                     1\n",
      "bathrooms                        16\n",
      "bedrooms                          6\n",
      "beds                              1\n",
      "square_feet                    3721\n",
      "weekly_price                   1809\n",
      "monthly_price                  2301\n",
      "security_deposit               1952\n",
      "cleaning_fee                   1030\n",
      "first_review                    627\n",
      "last_review                     627\n",
      "review_scores_rating            647\n",
      "review_scores_accuracy          658\n",
      "review_scores_cleanliness       653\n",
      "review_scores_checkin           658\n",
      "review_scores_communication     651\n",
      "review_scores_location          655\n",
      "review_scores_value             656\n",
      "reviews_per_month               627\n",
      "price_per_bedroom                 6\n",
      "dtype: int64\n",
      "        id                           listing_url  \\\n",
      "0   241032   https://www.airbnb.com/rooms/241032   \n",
      "1   953595   https://www.airbnb.com/rooms/953595   \n",
      "2  3308979  https://www.airbnb.com/rooms/3308979   \n",
      "3  7421966  https://www.airbnb.com/rooms/7421966   \n",
      "4   278830   https://www.airbnb.com/rooms/278830   \n",
      "\n",
      "                                  name  \\\n",
      "0         Stylish Queen Anne Apartment   \n",
      "1   Bright & Airy Queen Anne Apartment   \n",
      "2  New Modern House-Amazing water view   \n",
      "3                   Queen Anne Chateau   \n",
      "4       Charming craftsman 3 bdm house   \n",
      "\n",
      "                                             summary  \\\n",
      "0                                                      \n",
      "1  Chemically sensitive? We've removed the irrita...   \n",
      "2  New modern house built in 2013.  Spectacular s...   \n",
      "3  A charming apartment that sits atop Queen Anne...   \n",
      "4  Cozy family craftman house in beautiful neighb...   \n",
      "\n",
      "                                         description  \\\n",
      "0  Make your self at home in this charming one-be...   \n",
      "1  Chemically sensitive? We've removed the irrita...   \n",
      "2  New modern house built in 2013.  Spectacular s...   \n",
      "3  A charming apartment that sits atop Queen Anne...   \n",
      "4  Cozy family craftman house in beautiful neighb...   \n",
      "\n",
      "                               neighborhood_overview  \\\n",
      "0                                                      \n",
      "1  Queen Anne is a wonderful, truly functional vi...   \n",
      "2  Upper Queen Anne is a charming neighborhood fu...   \n",
      "3                                                      \n",
      "4  We are in the beautiful neighborhood of Queen ...   \n",
      "\n",
      "                                               notes  \\\n",
      "0                                                      \n",
      "1  What's up with the free pillows?  Our home was...   \n",
      "2  Our house is located just 5 short blocks to To...   \n",
      "3                                                      \n",
      "4                                          Belltown    \n",
      "\n",
      "                                             transit   host_id host_name  ...  \\\n",
      "0                                                       956883     Maija  ...   \n",
      "1  Convenient bus stops are just down the block, ...   5177328    Andrea  ...   \n",
      "2  A bus stop is just 2 blocks away.   Easy bus a...  16708587      Jill  ...   \n",
      "3                                                      9851441     Emily  ...   \n",
      "4  The nearest public transit bus (D Line) is 2 b...   1452570     Emily  ...   \n",
      "\n",
      "  review_scores_value jurisdiction_names instant_bookable cancellation_policy  \\\n",
      "0                10.0         WASHINGTON                f            moderate   \n",
      "1                10.0         WASHINGTON                f              strict   \n",
      "2                10.0         WASHINGTON                f              strict   \n",
      "3                 NaN         WASHINGTON                f            flexible   \n",
      "4                 9.0         WASHINGTON                f              strict   \n",
      "\n",
      "  require_guest_profile_picture require_guest_phone_verification  \\\n",
      "0                             f                                f   \n",
      "1                             t                                t   \n",
      "2                             f                                f   \n",
      "3                             f                                f   \n",
      "4                             f                                f   \n",
      "\n",
      "   calculated_host_listings_count  reviews_per_month price_per_bedroom  \\\n",
      "0                               2               4.07              85.0   \n",
      "1                               6               1.48             150.0   \n",
      "2                               2               1.15             195.0   \n",
      "3                               1                NaN               inf   \n",
      "4                               1               0.89             150.0   \n",
      "\n",
      "  price_per_guest  \n",
      "0       21.250000  \n",
      "1       37.500000  \n",
      "2       88.636364  \n",
      "3       33.333333  \n",
      "4       75.000000  \n",
      "\n",
      "[5 rows x 72 columns]\n",
      "<class 'pandas.core.frame.DataFrame'>\n",
      "RangeIndex: 3818 entries, 0 to 3817\n",
      "Data columns (total 72 columns):\n",
      " #   Column                            Non-Null Count  Dtype         \n",
      "---  ------                            --------------  -----         \n",
      " 0   id                                3818 non-null   int64         \n",
      " 1   listing_url                       3818 non-null   object        \n",
      " 2   name                              3818 non-null   object        \n",
      " 3   summary                           3818 non-null   object        \n",
      " 4   description                       3818 non-null   object        \n",
      " 5   neighborhood_overview             3818 non-null   object        \n",
      " 6   notes                             3818 non-null   object        \n",
      " 7   transit                           3818 non-null   object        \n",
      " 8   host_id                           3818 non-null   int64         \n",
      " 9   host_name                         3816 non-null   object        \n",
      " 10  host_since                        3816 non-null   datetime64[ns]\n",
      " 11  host_response_time                3295 non-null   object        \n",
      " 12  host_response_rate                3295 non-null   object        \n",
      " 13  host_acceptance_rate              3045 non-null   object        \n",
      " 14  host_is_superhost                 3816 non-null   object        \n",
      " 15  host_neighbourhood                3518 non-null   object        \n",
      " 16  host_listings_count               3816 non-null   float64       \n",
      " 17  host_total_listings_count         3816 non-null   float64       \n",
      " 18  host_verifications                3816 non-null   object        \n",
      " 19  host_has_profile_pic              3816 non-null   object        \n",
      " 20  host_identity_verified            3816 non-null   object        \n",
      " 21  street                            3818 non-null   object        \n",
      " 22  neighbourhood_cleansed            3818 non-null   object        \n",
      " 23  neighbourhood_group_cleansed      3818 non-null   object        \n",
      " 24  city                              3818 non-null   object        \n",
      " 25  state                             3818 non-null   object        \n",
      " 26  zipcode                           3811 non-null   object        \n",
      " 27  market                            3818 non-null   object        \n",
      " 28  smart_location                    3818 non-null   object        \n",
      " 29  country_code                      3818 non-null   object        \n",
      " 30  country                           3818 non-null   object        \n",
      " 31  latitude                          3818 non-null   float64       \n",
      " 32  longitude                         3818 non-null   float64       \n",
      " 33  is_location_exact                 3818 non-null   object        \n",
      " 34  property_type                     3817 non-null   object        \n",
      " 35  room_type                         3818 non-null   object        \n",
      " 36  accommodates                      3818 non-null   int64         \n",
      " 37  bathrooms                         3802 non-null   float64       \n",
      " 38  bedrooms                          3812 non-null   float64       \n",
      " 39  beds                              3817 non-null   float64       \n",
      " 40  bed_type                          3818 non-null   object        \n",
      " 41  amenities                         3818 non-null   object        \n",
      " 42  square_feet                       97 non-null     float64       \n",
      " 43  price                             3818 non-null   float64       \n",
      " 44  weekly_price                      2009 non-null   float64       \n",
      " 45  monthly_price                     1517 non-null   float64       \n",
      " 46  security_deposit                  1866 non-null   float64       \n",
      " 47  cleaning_fee                      2788 non-null   float64       \n",
      " 48  guests_included                   3818 non-null   int64         \n",
      " 49  extra_people                      3818 non-null   float64       \n",
      " 50  minimum_nights                    3818 non-null   int64         \n",
      " 51  maximum_nights                    3818 non-null   int64         \n",
      " 52  has_availability                  3818 non-null   object        \n",
      " 53  number_of_reviews                 3818 non-null   int64         \n",
      " 54  first_review                      3191 non-null   datetime64[ns]\n",
      " 55  last_review                       3191 non-null   datetime64[ns]\n",
      " 56  review_scores_rating              3171 non-null   float64       \n",
      " 57  review_scores_accuracy            3160 non-null   float64       \n",
      " 58  review_scores_cleanliness         3165 non-null   float64       \n",
      " 59  review_scores_checkin             3160 non-null   float64       \n",
      " 60  review_scores_communication       3167 non-null   float64       \n",
      " 61  review_scores_location            3163 non-null   float64       \n",
      " 62  review_scores_value               3162 non-null   float64       \n",
      " 63  jurisdiction_names                3818 non-null   object        \n",
      " 64  instant_bookable                  3818 non-null   object        \n",
      " 65  cancellation_policy               3818 non-null   object        \n",
      " 66  require_guest_profile_picture     3818 non-null   object        \n",
      " 67  require_guest_phone_verification  3818 non-null   object        \n",
      " 68  calculated_host_listings_count    3818 non-null   int64         \n",
      " 69  reviews_per_month                 3191 non-null   float64       \n",
      " 70  price_per_bedroom                 3812 non-null   float64       \n",
      " 71  price_per_guest                   3818 non-null   float64       \n",
      "dtypes: datetime64[ns](3), float64(24), int64(8), object(37)\n",
      "memory usage: 2.1+ MB\n",
      "None\n"
     ]
    }
   ],
   "source": [
    "# Final check for any remaining missing values\n",
    "missing_values = listings_df.isnull().sum()\n",
    "print(missing_values[missing_values > 0])\n",
    "\n",
    "# Display the final cleaned Listings DataFrame\n",
    "print(listings_df.head())\n",
    "print(listings_df.info())\n",
    "\n",
    "# Save the cleaned Listings DataFrame\n",
    "listings_df.to_csv('./data/processed/cleaned_listings.csv', index=False)\n",
    "\n",
    "\n"
   ]
  },
  {
   "cell_type": "markdown",
   "metadata": {
    "id": "AZtY6f7Swt-V"
   },
   "source": [
    "Reviews dataframe cleaning"
   ]
  },
  {
   "cell_type": "markdown",
   "metadata": {
    "id": "sNuRJirE1htG"
   },
   "source": [
    "date to Datetime format"
   ]
  },
  {
   "cell_type": "code",
   "execution_count": 8,
   "metadata": {
    "colab": {
     "base_uri": "https://localhost:8080/"
    },
    "id": "mrKImpIb1IRH",
    "outputId": "7a403a5b-bb36-4180-d0fb-8b4435fa72ba"
   },
   "outputs": [
    {
     "name": "stdout",
     "output_type": "stream",
     "text": [
      "        date\n",
      "0 2015-07-19\n",
      "1 2015-07-20\n",
      "2 2015-07-26\n",
      "3 2015-08-02\n",
      "4 2015-08-10\n"
     ]
    }
   ],
   "source": [
    "# Convert date to datetime\n",
    "reviews_df['date'] = pd.to_datetime(reviews_df['date'])\n",
    "\n",
    "# Display the updated Reviews DataFrame to verify changes\n",
    "print(reviews_df[['date']].head())\n"
   ]
  },
  {
   "cell_type": "markdown",
   "metadata": {
    "id": "_UOBU9L61wXe"
   },
   "source": [
    "Handle Missing Values\n"
   ]
  },
  {
   "cell_type": "markdown",
   "metadata": {
    "id": "4C51qGfW12rm"
   },
   "source": [
    "We will fill missing values in the comments column with empty strings. This ensures consistency and prevents issues during text analysis."
   ]
  },
  {
   "cell_type": "code",
   "execution_count": 9,
   "metadata": {
    "colab": {
     "base_uri": "https://localhost:8080/"
    },
    "id": "Kj6sEFwZ1IhJ",
    "outputId": "8bcf4e1a-294f-419b-82ef-2376407d1d84"
   },
   "outputs": [
    {
     "name": "stdout",
     "output_type": "stream",
     "text": [
      "   listing_id        id       date  reviewer_id reviewer_name  \\\n",
      "0     7202016  38917982 2015-07-19     28943674        Bianca   \n",
      "1     7202016  39087409 2015-07-20     32440555         Frank   \n",
      "2     7202016  39820030 2015-07-26     37722850           Ian   \n",
      "3     7202016  40813543 2015-08-02     33671805        George   \n",
      "4     7202016  41986501 2015-08-10     34959538          Ming   \n",
      "\n",
      "                                            comments  \n",
      "0  Cute and cozy place. Perfect location to every...  \n",
      "1  Kelly has a great room in a very central locat...  \n",
      "2  Very spacious apartment, and in a great neighb...  \n",
      "3  Close to Seattle Center and all it has to offe...  \n",
      "4  Kelly was a great host and very accommodating ...  \n",
      "<class 'pandas.core.frame.DataFrame'>\n",
      "RangeIndex: 84849 entries, 0 to 84848\n",
      "Data columns (total 6 columns):\n",
      " #   Column         Non-Null Count  Dtype         \n",
      "---  ------         --------------  -----         \n",
      " 0   listing_id     84849 non-null  int64         \n",
      " 1   id             84849 non-null  int64         \n",
      " 2   date           84849 non-null  datetime64[ns]\n",
      " 3   reviewer_id    84849 non-null  int64         \n",
      " 4   reviewer_name  84849 non-null  object        \n",
      " 5   comments       84849 non-null  object        \n",
      "dtypes: datetime64[ns](1), int64(3), object(2)\n",
      "memory usage: 3.9+ MB\n",
      "None\n"
     ]
    }
   ],
   "source": [
    "# Handle missing values in comments by filling with empty strings\n",
    "reviews_df['comments'].fillna('', inplace=True)\n",
    "\n",
    "# Display the cleaned Reviews DataFrame\n",
    "print(reviews_df.head())\n",
    "print(reviews_df.info())\n"
   ]
  },
  {
   "cell_type": "markdown",
   "metadata": {
    "id": "WnMIBr3s2SJl"
   },
   "source": [
    "Final Checks for Missing Values"
   ]
  },
  {
   "cell_type": "code",
   "execution_count": 10,
   "metadata": {
    "colab": {
     "base_uri": "https://localhost:8080/"
    },
    "id": "CEgEDmsi1Imk",
    "outputId": "b736c160-f525-4520-bb59-d1315ad62862"
   },
   "outputs": [
    {
     "name": "stdout",
     "output_type": "stream",
     "text": [
      "Series([], dtype: int64)\n"
     ]
    }
   ],
   "source": [
    "# Final check for any remaining missing values\n",
    "missing_values = reviews_df.isnull().sum()\n",
    "print(missing_values[missing_values > 0])\n"
   ]
  },
  {
   "cell_type": "markdown",
   "metadata": {
    "id": "Bh07TI5T2XmQ"
   },
   "source": [
    "Save the Cleaned Reviews DataFrame"
   ]
  },
  {
   "cell_type": "code",
   "execution_count": 11,
   "metadata": {
    "colab": {
     "base_uri": "https://localhost:8080/"
    },
    "id": "yoV3Z4eE1Ipm",
    "outputId": "12d4d684-0651-4b48-e66c-b11fcb0658ca"
   },
   "outputs": [
    {
     "name": "stdout",
     "output_type": "stream",
     "text": [
      "   listing_id        id       date  reviewer_id reviewer_name  \\\n",
      "0     7202016  38917982 2015-07-19     28943674        Bianca   \n",
      "1     7202016  39087409 2015-07-20     32440555         Frank   \n",
      "2     7202016  39820030 2015-07-26     37722850           Ian   \n",
      "3     7202016  40813543 2015-08-02     33671805        George   \n",
      "4     7202016  41986501 2015-08-10     34959538          Ming   \n",
      "\n",
      "                                            comments  \n",
      "0  Cute and cozy place. Perfect location to every...  \n",
      "1  Kelly has a great room in a very central locat...  \n",
      "2  Very spacious apartment, and in a great neighb...  \n",
      "3  Close to Seattle Center and all it has to offe...  \n",
      "4  Kelly was a great host and very accommodating ...  \n",
      "<class 'pandas.core.frame.DataFrame'>\n",
      "RangeIndex: 84849 entries, 0 to 84848\n",
      "Data columns (total 6 columns):\n",
      " #   Column         Non-Null Count  Dtype         \n",
      "---  ------         --------------  -----         \n",
      " 0   listing_id     84849 non-null  int64         \n",
      " 1   id             84849 non-null  int64         \n",
      " 2   date           84849 non-null  datetime64[ns]\n",
      " 3   reviewer_id    84849 non-null  int64         \n",
      " 4   reviewer_name  84849 non-null  object        \n",
      " 5   comments       84849 non-null  object        \n",
      "dtypes: datetime64[ns](1), int64(3), object(2)\n",
      "memory usage: 3.9+ MB\n",
      "None\n"
     ]
    }
   ],
   "source": [
    "# Save the cleaned Reviews DataFrame\n",
    "cleaned_reviews_path = './data/processed/cleaned_reviews.csv'\n",
    "reviews_df.to_csv(cleaned_reviews_path, index=False)\n",
    "\n",
    "# Display the final cleaned Reviews DataFrame\n",
    "print(reviews_df.head())\n",
    "print(reviews_df.info())\n"
   ]
  },
  {
   "cell_type": "markdown",
   "metadata": {
    "id": "vlmTit2e3Rxy"
   },
   "source": [
    "EDA"
   ]
  },
  {
   "cell_type": "markdown",
   "metadata": {
    "id": "OXChD4uoAtbE"
   },
   "source": [
    "Import libraries and load cleaned dataframes"
   ]
  },
  {
   "cell_type": "code",
   "execution_count": 12,
   "metadata": {
    "id": "UJ5sWsac1Isu"
   },
   "outputs": [],
   "source": [
    "import pandas as pd\n",
    "import seaborn as sns\n",
    "import matplotlib.pyplot as plt\n",
    "\n",
    "cleaned_calendar_path = './data/processed/cleaned_calendar.csv'\n",
    "cleaned_listings_path = './data/processed/cleaned_listings.csv'\n",
    "cleaned_reviews_path = './data/processed/cleaned_reviews.csv'\n",
    "\n",
    "\n",
    "calendar_df = pd.read_csv(cleaned_calendar_path)\n",
    "listings_df = pd.read_csv(cleaned_listings_path)\n",
    "reviews_df = pd.read_csv(cleaned_reviews_path)\n"
   ]
  },
  {
   "cell_type": "markdown",
   "metadata": {
    "id": "fifEuuIJA53Y"
   },
   "source": [
    "Distribution of Prices"
   ]
  },
  {
   "cell_type": "code",
   "execution_count": 13,
   "metadata": {
    "colab": {
     "base_uri": "https://localhost:8080/",
     "height": 564
    },
    "id": "C0h48Gs0AjrB",
    "outputId": "018e99e7-a2b5-4893-842c-877e92b707b8"
   },
   "outputs": [
    {
     "name": "stderr",
     "output_type": "stream",
     "text": [
      "C:\\Users\\artso\\anaconda3\\Lib\\site-packages\\seaborn\\_oldcore.py:1119: FutureWarning: use_inf_as_na option is deprecated and will be removed in a future version. Convert inf values to NaN before operating instead.\n",
      "  with pd.option_context('mode.use_inf_as_na', True):\n"
     ]
    },
    {
     "data": {
      "image/png": "[encoded data removed]",
      "text/plain": [
       "<Figure size 1000x600 with 1 Axes>"
      ]
     },
     "metadata": {},
     "output_type": "display_data"
    }
   ],
   "source": [
    "# Distribution of Prices\n",
    "plt.figure(figsize=(10, 6))\n",
    "sns.histplot(listings_df['price'], bins=50, kde=True)\n",
    "plt.title('Distribution of Listing Prices')\n",
    "plt.xlabel('Price')\n",
    "plt.ylabel('Frequency')\n",
    "plt.show()\n"
   ]
  },
  {
   "cell_type": "markdown",
   "metadata": {
    "id": "vJuoFM7h_et_"
   },
   "source": [
    "Calculate and Visualize Average Prices by Neighborhood Group"
   ]
  },
  {
   "cell_type": "code",
   "execution_count": 14,
   "metadata": {
    "colab": {
     "base_uri": "https://localhost:8080/",
     "height": 944
    },
    "id": "vAHt-2sIAj9i",
    "outputId": "02d3cab0-b8eb-41b1-94c5-3b01a265a897"
   },
   "outputs": [
    {
     "name": "stdout",
     "output_type": "stream",
     "text": [
      "neighbourhood_group_cleansed\n",
      "Ballard                124.682609\n",
      "Beacon Hill             94.669492\n",
      "Capitol Hill           130.592593\n",
      "Cascade                140.101124\n",
      "Central Area           128.338753\n",
      "Delridge                83.278481\n",
      "Downtown               154.405660\n",
      "Interbay               109.727273\n",
      "Lake City               92.671642\n",
      "Magnolia               177.672131\n",
      "Northgate               88.550000\n",
      "Other neighborhoods    119.968514\n",
      "Queen Anne             157.223729\n",
      "Rainier Valley          91.899371\n",
      "Seward Park            108.477273\n",
      "University District     93.639344\n",
      "West Seattle           141.359606\n",
      "Name: price, dtype: float64\n"
     ]
    },
    {
     "data": {
      "image/png": "[encoded data removed]",
      "text/plain": [
       "<Figure size 1000x600 with 1 Axes>"
      ]
     },
     "metadata": {},
     "output_type": "display_data"
    }
   ],
   "source": [
    "# Group by neighborhood group and calculate the average price\n",
    "average_prices = listings_df.groupby('neighbourhood_group_cleansed')['price'].mean()\n",
    "\n",
    "# Print the average prices\n",
    "print(average_prices)\n",
    "\n",
    "# Plotting\n",
    "plt.figure(figsize=(10, 6))\n",
    "average_prices.plot(kind='bar')\n",
    "plt.title('Average Airbnb House Prices by Zipcode')\n",
    "plt.xlabel('neighbourhood_group_cleansed')\n",
    "plt.ylabel('Average Price')\n",
    "plt.xticks(rotation=45)\n",
    "plt.tight_layout()\n",
    "plt.show()"
   ]
  },
  {
   "cell_type": "markdown",
   "metadata": {
    "id": "iVbkJTmyr49B"
   },
   "source": [
    "Clean Up Data for Regression Analysis"
   ]
  },
  {
   "cell_type": "code",
   "execution_count": 15,
   "metadata": {
    "colab": {
     "base_uri": "https://localhost:8080/"
    },
    "id": "i_84qw8zrJYW",
    "outputId": "a0cfc5b0-24da-4451-9016-10912c313457"
   },
   "outputs": [
    {
     "name": "stdout",
     "output_type": "stream",
     "text": [
      "id                                    int64\n",
      "listing_url                          object\n",
      "name                                 object\n",
      "summary                              object\n",
      "description                          object\n",
      "                                     ...   \n",
      "require_guest_phone_verification     object\n",
      "calculated_host_listings_count        int64\n",
      "reviews_per_month                   float64\n",
      "price_per_bedroom                   float64\n",
      "price_per_guest                     float64\n",
      "Length: 72, dtype: object\n"
     ]
    }
   ],
   "source": [
    "# Convert 'zipcode' column to numeric, ignoring errors\n",
    "listings_df['zipcode'] = pd.to_numeric(listings_df['zipcode'], errors='coerce')\n",
    "\n",
    "# Convert 'bedrooms' column to numeric, ignoring errors\n",
    "listings_df['bedrooms'] = pd.to_numeric(listings_df['bedrooms'], errors='coerce')\n",
    "\n",
    "# Convert 'bathrooms' column to numeric, ignoring errors\n",
    "listings_df['bathrooms'] = pd.to_numeric(listings_df['bathrooms'], errors='coerce')\n",
    "\n",
    "# Drop rows with missing values\n",
    "listings_df.dropna(inplace=True)\n",
    "\n",
    "# Check the data types of all columns\n",
    "print(listings_df.dtypes)"
   ]
  },
  {
   "cell_type": "markdown",
   "metadata": {
    "id": "ypFT8cooAxHG"
   },
   "source": [
    "Predict House Listing Prices in Different Areas of Seattle"
   ]
  },
  {
   "cell_type": "code",
   "execution_count": 16,
   "metadata": {
    "colab": {
     "base_uri": "https://localhost:8080/"
    },
    "id": "Dnz_Vxjvrj9q",
    "outputId": "fb088c0e-e0cb-4fee-ba38-a76b4a82e733"
   },
   "outputs": [
    {
     "name": "stdout",
     "output_type": "stream",
     "text": [
      "Mean Squared Error: 227.99758316553923\n"
     ]
    },
    {
     "name": "stdin",
     "output_type": "stream",
     "text": [
      "Enter the number of bedrooms in the listing:  3\n",
      "Enter the number of bathrooms in the listing:  2\n",
      "Enter the zipcode of the listing:  98102\n"
     ]
    },
    {
     "name": "stdout",
     "output_type": "stream",
     "text": [
      "Predicted price: 178.60040694840427\n"
     ]
    }
   ],
   "source": [
    "# Write a program to predict what a house listing price should be in different areas of Seattle.\n",
    "import pandas as pd\n",
    "from sklearn.model_selection import train_test_split\n",
    "from sklearn.linear_model import LinearRegression\n",
    "from sklearn.metrics import mean_squared_error\n",
    "\n",
    "# Select relevant features (bedrooms, bathrooms, and zipcode) and target variable (price)\n",
    "X = listings_df[['bedrooms', 'bathrooms', 'zipcode']]\n",
    "y = listings_df['price']\n",
    "\n",
    "# Split the data into training and testing sets\n",
    "X_train, X_test, y_train, y_test = train_test_split(X, y, test_size=0.2, random_state=42)\n",
    "\n",
    "# Train the model\n",
    "model = LinearRegression()\n",
    "model.fit(X_train, y_train)\n",
    "\n",
    "# Predict prices\n",
    "y_pred = model.predict(X_test)\n",
    "\n",
    "# Evaluate the model\n",
    "mse = mean_squared_error(y_test, y_pred)\n",
    "print(\"Mean Squared Error:\", mse)\n",
    "\n",
    "# Function to predict price based on input features\n",
    "def predict_price(bedrooms, bathrooms, zipcode):\n",
    "    input_data = pd.DataFrame([[bedrooms, bathrooms, zipcode]], columns=['bedrooms', 'bathrooms', 'zipcode'])\n",
    "    price = model.predict(input_data)\n",
    "    return price[0]\n",
    "\n",
    "#Collect input from user\n",
    "bedrooms = float(input(\"Enter the number of bedrooms in the listing: \"))\n",
    "bathrooms = float(input(\"Enter the number of bathrooms in the listing: \"))\n",
    "zipcode = float(input(\"Enter the zipcode of the listing: \"))\n",
    "predicted_price = predict_price(bedrooms, bathrooms, zipcode)\n",
    "print(\"Predicted price:\", predicted_price)"
   ]
  },
  {
   "cell_type": "markdown",
   "metadata": {
    "id": "4CsFZrllwEoo"
   },
   "source": [
    "KeyWord Search for Amenities at Listings"
   ]
  },
  {
   "cell_type": "code",
   "execution_count": 17,
   "metadata": {
    "colab": {
     "base_uri": "https://localhost:8080/"
    },
    "id": "_ot28sjZwFfG",
    "outputId": "b306d358-c75a-45a1-b3ce-478c2e5bf478"
   },
   "outputs": [
    {
     "name": "stdin",
     "output_type": "stream",
     "text": [
      "Enter a keyword to search for listings:  family\n"
     ]
    },
    {
     "name": "stdout",
     "output_type": "stream",
     "text": [
      "Listings containing the keyword 'family':\n",
      "\n",
      "Listing ID: 227636\n",
      "Name: Large Ballard/Fremont apartment\n",
      "Host Response Time: within an hour\n",
      "Bedrooms: 1.0\n",
      "Bathrooms: 1.0\n",
      "Beds: 2.0\n",
      "Price: 120.0\n",
      "Neighbourhood Cleansed: West Woodland\n",
      "Minimum Nights: 2\n",
      "Guests Included: 2\n",
      "Number of Reviews: 131\n",
      "Review Scores Rating: 97.0\n",
      "Listing Link: https://www.airbnb.com/rooms/227636\n",
      "--------------------------------------------------\n",
      "\n",
      "Listing ID: 566435\n",
      "Name: \"THE 5-STAR HOUSE\" \n",
      "Host Response Time: within an hour\n",
      "Bedrooms: 1.0\n",
      "Bathrooms: 3.5\n",
      "Beds: 1.0\n",
      "Price: 65.0\n",
      "Neighbourhood Cleansed: Crown Hill\n",
      "Minimum Nights: 2\n",
      "Guests Included: 2\n",
      "Number of Reviews: 37\n",
      "Review Scores Rating: 95.0\n",
      "Listing Link: https://www.airbnb.com/rooms/566435\n",
      "--------------------------------------------------\n",
      "\n",
      "Listing ID: 2197982\n",
      "Name: Private Studio in Seattle\n",
      "Host Response Time: within an hour\n",
      "Bedrooms: 0.0\n",
      "Bathrooms: 1.0\n",
      "Beds: 1.0\n",
      "Price: 80.0\n",
      "Neighbourhood Cleansed: Maple Leaf\n",
      "Minimum Nights: 2\n",
      "Guests Included: 2\n",
      "Number of Reviews: 72\n",
      "Review Scores Rating: 98.0\n",
      "Listing Link: https://www.airbnb.com/rooms/2197982\n",
      "--------------------------------------------------\n",
      "\n",
      "Listing ID: 262764\n",
      "Name: Fremont Farmhouse\n",
      "Host Response Time: within an hour\n",
      "Bedrooms: 2.0\n",
      "Bathrooms: 1.0\n",
      "Beds: 3.0\n",
      "Price: 154.0\n",
      "Neighbourhood Cleansed: Fremont\n",
      "Minimum Nights: 2\n",
      "Guests Included: 4\n",
      "Number of Reviews: 5\n",
      "Review Scores Rating: 92.0\n",
      "Listing Link: https://www.airbnb.com/rooms/262764\n",
      "--------------------------------------------------\n"
     ]
    }
   ],
   "source": [
    "# Function to perform keyword search on amenities\n",
    "def search_listings(keyword):\n",
    "    # Filter the DataFrame to include only listings containing the keyword in amenities\n",
    "    filtered_data = listings_df[listings_df['amenities'].str.contains(keyword, case=False)]\n",
    "\n",
    "    # Check if any listings match the keyword\n",
    "    if not filtered_data.empty:\n",
    "        # Display relevant details of the matching listings\n",
    "        print(\"Listings containing the keyword '{}':\".format(keyword))\n",
    "        for index, row in filtered_data.iterrows():\n",
    "            print(\"\\nListing ID:\", row['id'])\n",
    "            print(\"Name:\", row['name'])\n",
    "            print(\"Host Response Time:\", row['host_response_time'])\n",
    "            print(\"Bedrooms:\", row['bedrooms'])\n",
    "            print(\"Bathrooms:\", row['bathrooms'])\n",
    "            print(\"Beds:\", row['beds'])\n",
    "            print(\"Price:\", row['price'])\n",
    "            print(\"Neighbourhood Cleansed:\", row['neighbourhood_cleansed'])\n",
    "            print(\"Minimum Nights:\", row['minimum_nights'])\n",
    "            print(\"Guests Included:\", row['guests_included'])\n",
    "            print(\"Number of Reviews:\", row['number_of_reviews'])\n",
    "            print(\"Review Scores Rating:\", row['review_scores_rating'])\n",
    "            print(\"Listing Link:\", row['listing_url'])\n",
    "            print(\"-\" * 50)\n",
    "    else:\n",
    "        print(\"No listings found containing the keyword '{}'.\".format(keyword))\n",
    "\n",
    "# Main function\n",
    "def main():\n",
    "    # Prompt the user to enter a keyword for amenity search\n",
    "    keyword = input(\"Enter a keyword to search for listings: \")\n",
    "\n",
    "    # Perform keyword search on amenities\n",
    "    search_listings(keyword)\n",
    "\n",
    "# Entry point of the program\n",
    "if __name__ == \"__main__\":\n",
    "    main()"
   ]
  },
  {
   "cell_type": "markdown",
   "metadata": {
    "id": "WZQzLa_iAy2U"
   },
   "source": [
    "Correlation Analysis between Host Response Rate and Review Type Categories"
   ]
  },
  {
   "cell_type": "code",
   "execution_count": 18,
   "metadata": {
    "colab": {
     "base_uri": "https://localhost:8080/",
     "height": 1000
    },
    "id": "Q4yQ5ApKApWG",
    "outputId": "b5e6d37d-8048-416b-dc3c-ce54c07938f4"
   },
   "outputs": [
    {
     "name": "stdout",
     "output_type": "stream",
     "text": [
      "                           host_response_rate  number_of_reviews  \\\n",
      "host_response_rate                   1.000000           0.119297   \n",
      "number_of_reviews                    0.119297           1.000000   \n",
      "host_total_listings_count            0.208514          -0.349955   \n",
      "review_scores_rating                -0.072232           0.061283   \n",
      "reviews_per_month                   -0.167442           0.725246   \n",
      "\n",
      "                           host_total_listings_count  review_scores_rating  \\\n",
      "host_response_rate                          0.208514             -0.072232   \n",
      "number_of_reviews                          -0.349955              0.061283   \n",
      "host_total_listings_count                   1.000000             -0.070286   \n",
      "review_scores_rating                       -0.070286              1.000000   \n",
      "reviews_per_month                          -0.672774             -0.056488   \n",
      "\n",
      "                           reviews_per_month  \n",
      "host_response_rate                 -0.167442  \n",
      "number_of_reviews                   0.725246  \n",
      "host_total_listings_count          -0.672774  \n",
      "review_scores_rating               -0.056488  \n",
      "reviews_per_month                   1.000000  \n"
     ]
    },
    {
     "name": "stderr",
     "output_type": "stream",
     "text": [
      "C:\\Users\\artso\\AppData\\Local\\Temp\\ipykernel_6496\\822209781.py:6: SettingWithCopyWarning: \n",
      "A value is trying to be set on a copy of a slice from a DataFrame.\n",
      "Try using .loc[row_indexer,col_indexer] = value instead\n",
      "\n",
      "See the caveats in the documentation: https://pandas.pydata.org/pandas-docs/stable/user_guide/indexing.html#returning-a-view-versus-a-copy\n",
      "  selected_data['host_response_rate'] = selected_data['host_response_rate'].str.rstrip('%').astype('float')\n",
      "C:\\Users\\artso\\AppData\\Local\\Temp\\ipykernel_6496\\822209781.py:9: SettingWithCopyWarning: \n",
      "A value is trying to be set on a copy of a slice from a DataFrame\n",
      "\n",
      "See the caveats in the documentation: https://pandas.pydata.org/pandas-docs/stable/user_guide/indexing.html#returning-a-view-versus-a-copy\n",
      "  selected_data.dropna(inplace=True)\n"
     ]
    },
    {
     "data": {
      "image/png": "[encoded data removed]",
      "text/plain": [
       "<Figure size 700x500 with 2 Axes>"
      ]
     },
     "metadata": {},
     "output_type": "display_data"
    }
   ],
   "source": [
    "#Correlation Matrix between host response rate and review type categories\n",
    "# Select relevant columns\n",
    "selected_data = listings_df[['host_response_rate', 'number_of_reviews', 'host_total_listings_count','review_scores_rating','reviews_per_month']]\n",
    "\n",
    "# Convert 'host_response_rate' to numeric (remove '%' sign)\n",
    "selected_data['host_response_rate'] = selected_data['host_response_rate'].str.rstrip('%').astype('float')\n",
    "\n",
    "# Drop rows with missing values\n",
    "selected_data.dropna(inplace=True)\n",
    "\n",
    "# Calculate correlation matrix\n",
    "correlation_matrix = selected_data.corr()\n",
    "\n",
    "# Print correlation matrix\n",
    "print(correlation_matrix)\n",
    "\n",
    "# Plot correlation matrix\n",
    "plt.figure(figsize=(7, 5))\n",
    "sns.heatmap(correlation_matrix, annot=True, cmap='coolwarm', fmt=\".2f\")\n",
    "plt.title('Correlation Matrix')\n",
    "plt.show()"
   ]
  },
  {
   "cell_type": "markdown",
   "metadata": {
    "id": "pTWLl97hA7oh"
   },
   "source": [
    "Import Necessary Libraries for Modeling and Visualization"
   ]
  },
  {
   "cell_type": "code",
   "execution_count": 19,
   "metadata": {
    "id": "IK8XI_6-zr6Z"
   },
   "outputs": [],
   "source": [
    "import pandas as pd\n",
    "import seaborn as sns\n",
    "import matplotlib.pyplot as plt\n",
    "from sklearn.tree import DecisionTreeClassifier # Import Decision Tree Classifier\n",
    "from sklearn.model_selection import train_test_split # Import train_test_split function\n",
    "from sklearn import metrics #Import scikit-learn metrics module for accuracy calculation\n",
    "from sklearn.datasets import load_iris\n",
    "from sklearn import tree\n",
    "import seaborn as sns\n",
    "from sklearn.ensemble import RandomForestRegressor\n",
    "from sklearn.metrics import mean_squared_error\n",
    "from sklearn.metrics import r2_score\n",
    "from sklearn.ensemble import RandomForestClassifier\n",
    "from sklearn.metrics import accuracy_score, confusion_matrix, precision_score, recall_score, ConfusionMatrixDisplay\n",
    "from sklearn.model_selection import RandomizedSearchCV, train_test_split\n",
    "from scipy.stats import randint\n",
    "\n",
    "\n",
    "# Convert 'zipcode' column to numeric, ignoring errors\n",
    "listings_df['zipcode'] = pd.to_numeric(listings_df['zipcode'], errors='coerce')\n",
    "\n",
    "# Convert 'bedrooms' column to numeric, ignoring errors\n",
    "listings_df['bedrooms'] = pd.to_numeric(listings_df['bedrooms'], errors='coerce')\n",
    "\n",
    "# Convert 'bathrooms' column to numeric, ignoring errors\n",
    "listings_df['bathrooms'] = pd.to_numeric(listings_df['bathrooms'], errors='coerce')\n",
    "\n"
   ]
  },
  {
   "cell_type": "markdown",
   "metadata": {
    "id": "vgetXrMsBeLQ"
   },
   "source": [
    "Top 10 Airbnb Listings by Review Rating"
   ]
  },
  {
   "cell_type": "code",
   "execution_count": 20,
   "metadata": {
    "colab": {
     "base_uri": "https://localhost:8080/",
     "height": 554
    },
    "id": "iN3kQDygzxk2",
    "outputId": "d3d2f85f-7209-4db4-c66e-34ac83c30b2a"
   },
   "outputs": [
    {
     "data": {
      "text/html": [
       "<div>\n",
       "<style scoped>\n",
       "    .dataframe tbody tr th:only-of-type {\n",
       "        vertical-align: middle;\n",
       "    }\n",
       "\n",
       "    .dataframe tbody tr th {\n",
       "        vertical-align: top;\n",
       "    }\n",
       "\n",
       "    .dataframe thead th {\n",
       "        text-align: right;\n",
       "    }\n",
       "</style>\n",
       "<table border=\"1\" class=\"dataframe\">\n",
       "  <thead>\n",
       "    <tr style=\"text-align: right;\">\n",
       "      <th></th>\n",
       "      <th>id</th>\n",
       "      <th>name</th>\n",
       "      <th>summary</th>\n",
       "      <th>neighbourhood_cleansed</th>\n",
       "      <th>room_type</th>\n",
       "      <th>zipcode</th>\n",
       "      <th>accommodates</th>\n",
       "      <th>bathrooms</th>\n",
       "      <th>bedrooms</th>\n",
       "      <th>beds</th>\n",
       "      <th>price</th>\n",
       "      <th>review_scores_rating</th>\n",
       "    </tr>\n",
       "  </thead>\n",
       "  <tbody>\n",
       "    <tr>\n",
       "      <th>1187</th>\n",
       "      <td>685600</td>\n",
       "      <td>Steps from magical Discovery Park-1</td>\n",
       "      <td>A truly magnificent location in the heart of S...</td>\n",
       "      <td>Lawton Park</td>\n",
       "      <td>Private room</td>\n",
       "      <td>98199.0</td>\n",
       "      <td>2</td>\n",
       "      <td>1.0</td>\n",
       "      <td>1.0</td>\n",
       "      <td>1.0</td>\n",
       "      <td>75.0</td>\n",
       "      <td>100.0</td>\n",
       "    </tr>\n",
       "    <tr>\n",
       "      <th>1851</th>\n",
       "      <td>9531</td>\n",
       "      <td>The Adorable Sweet Orange Craftsman</td>\n",
       "      <td>The Sweet Orange is a delightful and spacious ...</td>\n",
       "      <td>Fairmount Park</td>\n",
       "      <td>Entire home/apt</td>\n",
       "      <td>98136.0</td>\n",
       "      <td>4</td>\n",
       "      <td>1.0</td>\n",
       "      <td>2.0</td>\n",
       "      <td>5.0</td>\n",
       "      <td>165.0</td>\n",
       "      <td>100.0</td>\n",
       "    </tr>\n",
       "    <tr>\n",
       "      <th>2436</th>\n",
       "      <td>2197982</td>\n",
       "      <td>Private Studio in Seattle</td>\n",
       "      <td>Cozy private studio apartment. Maple Leaf neig...</td>\n",
       "      <td>Maple Leaf</td>\n",
       "      <td>Entire home/apt</td>\n",
       "      <td>98115.0</td>\n",
       "      <td>2</td>\n",
       "      <td>1.0</td>\n",
       "      <td>0.0</td>\n",
       "      <td>1.0</td>\n",
       "      <td>80.0</td>\n",
       "      <td>98.0</td>\n",
       "    </tr>\n",
       "    <tr>\n",
       "      <th>163</th>\n",
       "      <td>227636</td>\n",
       "      <td>Large Ballard/Fremont apartment</td>\n",
       "      <td>The apartment is located in a friendly neighbo...</td>\n",
       "      <td>West Woodland</td>\n",
       "      <td>Entire home/apt</td>\n",
       "      <td>98107.0</td>\n",
       "      <td>3</td>\n",
       "      <td>1.0</td>\n",
       "      <td>1.0</td>\n",
       "      <td>2.0</td>\n",
       "      <td>120.0</td>\n",
       "      <td>97.0</td>\n",
       "    </tr>\n",
       "    <tr>\n",
       "      <th>234</th>\n",
       "      <td>1167507</td>\n",
       "      <td>Queen Anne Mother-In-Law 1br/1bath</td>\n",
       "      <td>Queen Anne is a wonderful community close to d...</td>\n",
       "      <td>East Queen Anne</td>\n",
       "      <td>Entire home/apt</td>\n",
       "      <td>98109.0</td>\n",
       "      <td>4</td>\n",
       "      <td>1.0</td>\n",
       "      <td>1.0</td>\n",
       "      <td>2.0</td>\n",
       "      <td>110.0</td>\n",
       "      <td>97.0</td>\n",
       "    </tr>\n",
       "    <tr>\n",
       "      <th>3228</th>\n",
       "      <td>363064</td>\n",
       "      <td>A min away from Space Needle</td>\n",
       "      <td>Hi, this is newly renovated studio, only a cou...</td>\n",
       "      <td>Lower Queen Anne</td>\n",
       "      <td>Entire home/apt</td>\n",
       "      <td>98109.0</td>\n",
       "      <td>3</td>\n",
       "      <td>1.0</td>\n",
       "      <td>0.0</td>\n",
       "      <td>2.0</td>\n",
       "      <td>90.0</td>\n",
       "      <td>97.0</td>\n",
       "    </tr>\n",
       "    <tr>\n",
       "      <th>2228</th>\n",
       "      <td>1223644</td>\n",
       "      <td>Cozy Apt in Historic Columbia City</td>\n",
       "      <td>Private, light filled daylight basement apartm...</td>\n",
       "      <td>Columbia City</td>\n",
       "      <td>Entire home/apt</td>\n",
       "      <td>98118.0</td>\n",
       "      <td>3</td>\n",
       "      <td>1.0</td>\n",
       "      <td>1.0</td>\n",
       "      <td>1.0</td>\n",
       "      <td>90.0</td>\n",
       "      <td>96.0</td>\n",
       "    </tr>\n",
       "    <tr>\n",
       "      <th>2303</th>\n",
       "      <td>1097520</td>\n",
       "      <td>Relaxed sophistication in Mt. Baker</td>\n",
       "      <td>You will love the beautifully remodeled studio...</td>\n",
       "      <td>Mount Baker</td>\n",
       "      <td>Entire home/apt</td>\n",
       "      <td>98118.0</td>\n",
       "      <td>2</td>\n",
       "      <td>1.5</td>\n",
       "      <td>1.0</td>\n",
       "      <td>1.0</td>\n",
       "      <td>92.0</td>\n",
       "      <td>96.0</td>\n",
       "    </tr>\n",
       "    <tr>\n",
       "      <th>1836</th>\n",
       "      <td>566435</td>\n",
       "      <td>\"THE 5-STAR HOUSE\"</td>\n",
       "      <td>THE 5-STAR HOUSE, IS GIVING YOU A SPECIAL PRIC...</td>\n",
       "      <td>Crown Hill</td>\n",
       "      <td>Private room</td>\n",
       "      <td>98117.0</td>\n",
       "      <td>2</td>\n",
       "      <td>3.5</td>\n",
       "      <td>1.0</td>\n",
       "      <td>1.0</td>\n",
       "      <td>65.0</td>\n",
       "      <td>95.0</td>\n",
       "    </tr>\n",
       "    <tr>\n",
       "      <th>3483</th>\n",
       "      <td>226677</td>\n",
       "      <td>Classic beauty room w/warm heat</td>\n",
       "      <td>This classic beauty is decorated in simple bla...</td>\n",
       "      <td>Georgetown</td>\n",
       "      <td>Private room</td>\n",
       "      <td>98108.0</td>\n",
       "      <td>2</td>\n",
       "      <td>3.0</td>\n",
       "      <td>1.0</td>\n",
       "      <td>1.0</td>\n",
       "      <td>70.0</td>\n",
       "      <td>93.0</td>\n",
       "    </tr>\n",
       "  </tbody>\n",
       "</table>\n",
       "</div>"
      ],
      "text/plain": [
       "           id                                 name  \\\n",
       "1187   685600  Steps from magical Discovery Park-1   \n",
       "1851     9531  The Adorable Sweet Orange Craftsman   \n",
       "2436  2197982            Private Studio in Seattle   \n",
       "163    227636      Large Ballard/Fremont apartment   \n",
       "234   1167507   Queen Anne Mother-In-Law 1br/1bath   \n",
       "3228   363064         A min away from Space Needle   \n",
       "2228  1223644   Cozy Apt in Historic Columbia City   \n",
       "2303  1097520  Relaxed sophistication in Mt. Baker   \n",
       "1836   566435                  \"THE 5-STAR HOUSE\"    \n",
       "3483   226677      Classic beauty room w/warm heat   \n",
       "\n",
       "                                                summary  \\\n",
       "1187  A truly magnificent location in the heart of S...   \n",
       "1851  The Sweet Orange is a delightful and spacious ...   \n",
       "2436  Cozy private studio apartment. Maple Leaf neig...   \n",
       "163   The apartment is located in a friendly neighbo...   \n",
       "234   Queen Anne is a wonderful community close to d...   \n",
       "3228  Hi, this is newly renovated studio, only a cou...   \n",
       "2228  Private, light filled daylight basement apartm...   \n",
       "2303  You will love the beautifully remodeled studio...   \n",
       "1836  THE 5-STAR HOUSE, IS GIVING YOU A SPECIAL PRIC...   \n",
       "3483  This classic beauty is decorated in simple bla...   \n",
       "\n",
       "     neighbourhood_cleansed        room_type  zipcode  accommodates  \\\n",
       "1187            Lawton Park     Private room  98199.0             2   \n",
       "1851         Fairmount Park  Entire home/apt  98136.0             4   \n",
       "2436             Maple Leaf  Entire home/apt  98115.0             2   \n",
       "163           West Woodland  Entire home/apt  98107.0             3   \n",
       "234         East Queen Anne  Entire home/apt  98109.0             4   \n",
       "3228       Lower Queen Anne  Entire home/apt  98109.0             3   \n",
       "2228          Columbia City  Entire home/apt  98118.0             3   \n",
       "2303            Mount Baker  Entire home/apt  98118.0             2   \n",
       "1836             Crown Hill     Private room  98117.0             2   \n",
       "3483             Georgetown     Private room  98108.0             2   \n",
       "\n",
       "      bathrooms  bedrooms  beds  price  review_scores_rating  \n",
       "1187        1.0       1.0   1.0   75.0                 100.0  \n",
       "1851        1.0       2.0   5.0  165.0                 100.0  \n",
       "2436        1.0       0.0   1.0   80.0                  98.0  \n",
       "163         1.0       1.0   2.0  120.0                  97.0  \n",
       "234         1.0       1.0   2.0  110.0                  97.0  \n",
       "3228        1.0       0.0   2.0   90.0                  97.0  \n",
       "2228        1.0       1.0   1.0   90.0                  96.0  \n",
       "2303        1.5       1.0   1.0   92.0                  96.0  \n",
       "1836        3.5       1.0   1.0   65.0                  95.0  \n",
       "3483        3.0       1.0   1.0   70.0                  93.0  "
      ]
     },
     "execution_count": 20,
     "metadata": {},
     "output_type": "execute_result"
    }
   ],
   "source": [
    "\n",
    "sorted_listings_df = listings_df.sort_values(by=['review_scores_rating'],ascending=False).head(10)\n",
    "sorted_listings_df[['id','name','summary','neighbourhood_cleansed','room_type','zipcode','accommodates','bathrooms','bedrooms','beds','price','review_scores_rating']]"
   ]
  },
  {
   "cell_type": "markdown",
   "metadata": {
    "id": "8VpIvRpTBrQf"
   },
   "source": [
    "Data Cleaning for Analyzing Impact of Reviews on Price"
   ]
  },
  {
   "cell_type": "code",
   "execution_count": 21,
   "metadata": {
    "colab": {
     "base_uri": "https://localhost:8080/",
     "height": 1000
    },
    "id": "_pdS60JLz5-N",
    "outputId": "a102a0a2-8d24-43f9-9642-b1cad32bdc5a"
   },
   "outputs": [
    {
     "data": {
      "text/html": [
       "<div>\n",
       "<style scoped>\n",
       "    .dataframe tbody tr th:only-of-type {\n",
       "        vertical-align: middle;\n",
       "    }\n",
       "\n",
       "    .dataframe tbody tr th {\n",
       "        vertical-align: top;\n",
       "    }\n",
       "\n",
       "    .dataframe thead th {\n",
       "        text-align: right;\n",
       "    }\n",
       "</style>\n",
       "<table border=\"1\" class=\"dataframe\">\n",
       "  <thead>\n",
       "    <tr style=\"text-align: right;\">\n",
       "      <th></th>\n",
       "      <th>id</th>\n",
       "      <th>name</th>\n",
       "      <th>summary</th>\n",
       "      <th>neighbourhood_cleansed</th>\n",
       "      <th>zipcode</th>\n",
       "      <th>property_type</th>\n",
       "      <th>room_type</th>\n",
       "      <th>accommodates</th>\n",
       "      <th>bathrooms</th>\n",
       "      <th>bedrooms</th>\n",
       "      <th>beds</th>\n",
       "      <th>price</th>\n",
       "      <th>review_scores_rating</th>\n",
       "      <th>number_of_reviews</th>\n",
       "    </tr>\n",
       "  </thead>\n",
       "  <tbody>\n",
       "    <tr>\n",
       "      <th>163</th>\n",
       "      <td>227636</td>\n",
       "      <td>Large Ballard/Fremont apartment</td>\n",
       "      <td>The apartment is located in a friendly neighbo...</td>\n",
       "      <td>West Woodland</td>\n",
       "      <td>98107.0</td>\n",
       "      <td>Apartment</td>\n",
       "      <td>Entire home/apt</td>\n",
       "      <td>3</td>\n",
       "      <td>1.0</td>\n",
       "      <td>1.0</td>\n",
       "      <td>2.0</td>\n",
       "      <td>120.0</td>\n",
       "      <td>97.0</td>\n",
       "      <td>131</td>\n",
       "    </tr>\n",
       "    <tr>\n",
       "      <th>234</th>\n",
       "      <td>1167507</td>\n",
       "      <td>Queen Anne Mother-In-Law 1br/1bath</td>\n",
       "      <td>Queen Anne is a wonderful community close to d...</td>\n",
       "      <td>East Queen Anne</td>\n",
       "      <td>98109.0</td>\n",
       "      <td>Apartment</td>\n",
       "      <td>Entire home/apt</td>\n",
       "      <td>4</td>\n",
       "      <td>1.0</td>\n",
       "      <td>1.0</td>\n",
       "      <td>2.0</td>\n",
       "      <td>110.0</td>\n",
       "      <td>97.0</td>\n",
       "      <td>61</td>\n",
       "    </tr>\n",
       "    <tr>\n",
       "      <th>1187</th>\n",
       "      <td>685600</td>\n",
       "      <td>Steps from magical Discovery Park-1</td>\n",
       "      <td>A truly magnificent location in the heart of S...</td>\n",
       "      <td>Lawton Park</td>\n",
       "      <td>98199.0</td>\n",
       "      <td>House</td>\n",
       "      <td>Private room</td>\n",
       "      <td>2</td>\n",
       "      <td>1.0</td>\n",
       "      <td>1.0</td>\n",
       "      <td>1.0</td>\n",
       "      <td>75.0</td>\n",
       "      <td>100.0</td>\n",
       "      <td>8</td>\n",
       "    </tr>\n",
       "    <tr>\n",
       "      <th>1836</th>\n",
       "      <td>566435</td>\n",
       "      <td>\"THE 5-STAR HOUSE\"</td>\n",
       "      <td>THE 5-STAR HOUSE, IS GIVING YOU A SPECIAL PRIC...</td>\n",
       "      <td>Crown Hill</td>\n",
       "      <td>98117.0</td>\n",
       "      <td>House</td>\n",
       "      <td>Private room</td>\n",
       "      <td>2</td>\n",
       "      <td>3.5</td>\n",
       "      <td>1.0</td>\n",
       "      <td>1.0</td>\n",
       "      <td>65.0</td>\n",
       "      <td>95.0</td>\n",
       "      <td>37</td>\n",
       "    </tr>\n",
       "    <tr>\n",
       "      <th>1851</th>\n",
       "      <td>9531</td>\n",
       "      <td>The Adorable Sweet Orange Craftsman</td>\n",
       "      <td>The Sweet Orange is a delightful and spacious ...</td>\n",
       "      <td>Fairmount Park</td>\n",
       "      <td>98136.0</td>\n",
       "      <td>House</td>\n",
       "      <td>Entire home/apt</td>\n",
       "      <td>4</td>\n",
       "      <td>1.0</td>\n",
       "      <td>2.0</td>\n",
       "      <td>5.0</td>\n",
       "      <td>165.0</td>\n",
       "      <td>100.0</td>\n",
       "      <td>26</td>\n",
       "    </tr>\n",
       "    <tr>\n",
       "      <th>2228</th>\n",
       "      <td>1223644</td>\n",
       "      <td>Cozy Apt in Historic Columbia City</td>\n",
       "      <td>Private, light filled daylight basement apartm...</td>\n",
       "      <td>Columbia City</td>\n",
       "      <td>98118.0</td>\n",
       "      <td>Apartment</td>\n",
       "      <td>Entire home/apt</td>\n",
       "      <td>3</td>\n",
       "      <td>1.0</td>\n",
       "      <td>1.0</td>\n",
       "      <td>1.0</td>\n",
       "      <td>90.0</td>\n",
       "      <td>96.0</td>\n",
       "      <td>38</td>\n",
       "    </tr>\n",
       "    <tr>\n",
       "      <th>2303</th>\n",
       "      <td>1097520</td>\n",
       "      <td>Relaxed sophistication in Mt. Baker</td>\n",
       "      <td>You will love the beautifully remodeled studio...</td>\n",
       "      <td>Mount Baker</td>\n",
       "      <td>98118.0</td>\n",
       "      <td>Apartment</td>\n",
       "      <td>Entire home/apt</td>\n",
       "      <td>2</td>\n",
       "      <td>1.5</td>\n",
       "      <td>1.0</td>\n",
       "      <td>1.0</td>\n",
       "      <td>92.0</td>\n",
       "      <td>96.0</td>\n",
       "      <td>90</td>\n",
       "    </tr>\n",
       "    <tr>\n",
       "      <th>2436</th>\n",
       "      <td>2197982</td>\n",
       "      <td>Private Studio in Seattle</td>\n",
       "      <td>Cozy private studio apartment. Maple Leaf neig...</td>\n",
       "      <td>Maple Leaf</td>\n",
       "      <td>98115.0</td>\n",
       "      <td>Apartment</td>\n",
       "      <td>Entire home/apt</td>\n",
       "      <td>2</td>\n",
       "      <td>1.0</td>\n",
       "      <td>0.0</td>\n",
       "      <td>1.0</td>\n",
       "      <td>80.0</td>\n",
       "      <td>98.0</td>\n",
       "      <td>72</td>\n",
       "    </tr>\n",
       "    <tr>\n",
       "      <th>3228</th>\n",
       "      <td>363064</td>\n",
       "      <td>A min away from Space Needle</td>\n",
       "      <td>Hi, this is newly renovated studio, only a cou...</td>\n",
       "      <td>Lower Queen Anne</td>\n",
       "      <td>98109.0</td>\n",
       "      <td>Apartment</td>\n",
       "      <td>Entire home/apt</td>\n",
       "      <td>3</td>\n",
       "      <td>1.0</td>\n",
       "      <td>0.0</td>\n",
       "      <td>2.0</td>\n",
       "      <td>90.0</td>\n",
       "      <td>97.0</td>\n",
       "      <td>37</td>\n",
       "    </tr>\n",
       "    <tr>\n",
       "      <th>3483</th>\n",
       "      <td>226677</td>\n",
       "      <td>Classic beauty room w/warm heat</td>\n",
       "      <td>This classic beauty is decorated in simple bla...</td>\n",
       "      <td>Georgetown</td>\n",
       "      <td>98108.0</td>\n",
       "      <td>Other</td>\n",
       "      <td>Private room</td>\n",
       "      <td>2</td>\n",
       "      <td>3.0</td>\n",
       "      <td>1.0</td>\n",
       "      <td>1.0</td>\n",
       "      <td>70.0</td>\n",
       "      <td>93.0</td>\n",
       "      <td>48</td>\n",
       "    </tr>\n",
       "    <tr>\n",
       "      <th>3810</th>\n",
       "      <td>262764</td>\n",
       "      <td>Fremont Farmhouse</td>\n",
       "      <td>Our 2BR/1 bath home in Fremont's most fun neig...</td>\n",
       "      <td>Fremont</td>\n",
       "      <td>98103.0</td>\n",
       "      <td>House</td>\n",
       "      <td>Entire home/apt</td>\n",
       "      <td>5</td>\n",
       "      <td>1.0</td>\n",
       "      <td>2.0</td>\n",
       "      <td>3.0</td>\n",
       "      <td>154.0</td>\n",
       "      <td>92.0</td>\n",
       "      <td>5</td>\n",
       "    </tr>\n",
       "  </tbody>\n",
       "</table>\n",
       "</div>"
      ],
      "text/plain": [
       "           id                                 name  \\\n",
       "163    227636      Large Ballard/Fremont apartment   \n",
       "234   1167507   Queen Anne Mother-In-Law 1br/1bath   \n",
       "1187   685600  Steps from magical Discovery Park-1   \n",
       "1836   566435                  \"THE 5-STAR HOUSE\"    \n",
       "1851     9531  The Adorable Sweet Orange Craftsman   \n",
       "2228  1223644   Cozy Apt in Historic Columbia City   \n",
       "2303  1097520  Relaxed sophistication in Mt. Baker   \n",
       "2436  2197982            Private Studio in Seattle   \n",
       "3228   363064         A min away from Space Needle   \n",
       "3483   226677      Classic beauty room w/warm heat   \n",
       "3810   262764                    Fremont Farmhouse   \n",
       "\n",
       "                                                summary  \\\n",
       "163   The apartment is located in a friendly neighbo...   \n",
       "234   Queen Anne is a wonderful community close to d...   \n",
       "1187  A truly magnificent location in the heart of S...   \n",
       "1836  THE 5-STAR HOUSE, IS GIVING YOU A SPECIAL PRIC...   \n",
       "1851  The Sweet Orange is a delightful and spacious ...   \n",
       "2228  Private, light filled daylight basement apartm...   \n",
       "2303  You will love the beautifully remodeled studio...   \n",
       "2436  Cozy private studio apartment. Maple Leaf neig...   \n",
       "3228  Hi, this is newly renovated studio, only a cou...   \n",
       "3483  This classic beauty is decorated in simple bla...   \n",
       "3810  Our 2BR/1 bath home in Fremont's most fun neig...   \n",
       "\n",
       "     neighbourhood_cleansed  zipcode property_type        room_type  \\\n",
       "163           West Woodland  98107.0     Apartment  Entire home/apt   \n",
       "234         East Queen Anne  98109.0     Apartment  Entire home/apt   \n",
       "1187            Lawton Park  98199.0         House     Private room   \n",
       "1836             Crown Hill  98117.0         House     Private room   \n",
       "1851         Fairmount Park  98136.0         House  Entire home/apt   \n",
       "2228          Columbia City  98118.0     Apartment  Entire home/apt   \n",
       "2303            Mount Baker  98118.0     Apartment  Entire home/apt   \n",
       "2436             Maple Leaf  98115.0     Apartment  Entire home/apt   \n",
       "3228       Lower Queen Anne  98109.0     Apartment  Entire home/apt   \n",
       "3483             Georgetown  98108.0         Other     Private room   \n",
       "3810                Fremont  98103.0         House  Entire home/apt   \n",
       "\n",
       "      accommodates  bathrooms  bedrooms  beds  price  review_scores_rating  \\\n",
       "163              3        1.0       1.0   2.0  120.0                  97.0   \n",
       "234              4        1.0       1.0   2.0  110.0                  97.0   \n",
       "1187             2        1.0       1.0   1.0   75.0                 100.0   \n",
       "1836             2        3.5       1.0   1.0   65.0                  95.0   \n",
       "1851             4        1.0       2.0   5.0  165.0                 100.0   \n",
       "2228             3        1.0       1.0   1.0   90.0                  96.0   \n",
       "2303             2        1.5       1.0   1.0   92.0                  96.0   \n",
       "2436             2        1.0       0.0   1.0   80.0                  98.0   \n",
       "3228             3        1.0       0.0   2.0   90.0                  97.0   \n",
       "3483             2        3.0       1.0   1.0   70.0                  93.0   \n",
       "3810             5        1.0       2.0   3.0  154.0                  92.0   \n",
       "\n",
       "      number_of_reviews  \n",
       "163                 131  \n",
       "234                  61  \n",
       "1187                  8  \n",
       "1836                 37  \n",
       "1851                 26  \n",
       "2228                 38  \n",
       "2303                 90  \n",
       "2436                 72  \n",
       "3228                 37  \n",
       "3483                 48  \n",
       "3810                  5  "
      ]
     },
     "execution_count": 21,
     "metadata": {},
     "output_type": "execute_result"
    }
   ],
   "source": [
    "# How do the number of reviews and review scores impact the price of a listing?\n",
    "\n",
    "\n",
    "# Data cleaning\n",
    "review = listings_df[['id','name','summary','neighbourhood_cleansed','zipcode','property_type','room_type','accommodates','bathrooms','bedrooms','beds','price','review_scores_rating','number_of_reviews']]\n",
    "\n",
    "review = review.fillna(0) # replacing all NaN to -1\n",
    "\n",
    "review"
   ]
  },
  {
   "cell_type": "markdown",
   "metadata": {
    "id": "IbseRFfOC_M5"
   },
   "source": [
    "Split Dataset into Features and Target"
   ]
  },
  {
   "cell_type": "code",
   "execution_count": 22,
   "metadata": {
    "id": "okpo6G1Az9l4"
   },
   "outputs": [],
   "source": [
    "#split dataset in features and target variable\n",
    "feature_cols = ['review_scores_rating','number_of_reviews']\n",
    "\n",
    "x = review[feature_cols] # Features\n",
    "y = review.price # Target variable\n",
    "\n",
    "# Split dataset into training set and test set\n",
    "x_train, x_test, y_train, y_test = train_test_split(x, y, test_size=0.3, random_state=1) # 70% training and 30% test"
   ]
  },
  {
   "cell_type": "markdown",
   "metadata": {
    "id": "9NsULgWqDAhe"
   },
   "source": [
    "Train Random Forest Regressor and Evaluate Accuracy"
   ]
  },
  {
   "cell_type": "code",
   "execution_count": 23,
   "metadata": {
    "colab": {
     "base_uri": "https://localhost:8080/"
    },
    "id": "5D34_6Hrz-qq",
    "outputId": "8a5d0689-6116-475b-bc9f-c58700afb61c"
   },
   "outputs": [
    {
     "name": "stdout",
     "output_type": "stream",
     "text": [
      "2286.239033333333\n",
      "47.814632000396415\n",
      "-0.34114847051634567\n"
     ]
    }
   ],
   "source": [
    "# Create and train model\n",
    "rf = RandomForestRegressor(n_estimators = 300, max_features = 'sqrt', max_depth = 7, random_state = 18)\n",
    "rf.fit(x_train, y_train)\n",
    "# Predict on test data\n",
    "prediction = rf.predict(x_test)\n",
    "# Compute mean squared error\n",
    "mse = mean_squared_error(y_test, prediction)\n",
    "rmse = mse**.5\n",
    "# Print results\n",
    "print(mse)\n",
    "print(rmse)\n",
    "r2 = r2_score(y_test, prediction, force_finite=False)\n",
    "print(r2)"
   ]
  },
  {
   "cell_type": "markdown",
   "metadata": {
    "id": "6Vm3MVUOPPG1"
   },
   "source": [
    "Predict the future prices of listings based on historical data and identified trends"
   ]
  },
  {
   "cell_type": "code",
   "execution_count": 24,
   "metadata": {
    "id": "3aQhbXy3JDmk"
   },
   "outputs": [],
   "source": [
    "#split dataset in features and target variable\n",
    "feature_cols = ['zipcode','accommodates','bathrooms','bedrooms','beds']\n",
    "\n",
    "x = review[feature_cols] # Features\n",
    "y = review.price # Target variable\n",
    "\n",
    "# Split dataset into training set and test set\n",
    "x_train, x_test, y_train, y_test = train_test_split(x, y, test_size=0.3, random_state=1) # 70% training and 30% test"
   ]
  },
  {
   "cell_type": "markdown",
   "metadata": {
    "id": "w6gyZz8PDYrV"
   },
   "source": [
    " Train and Evaluate Random Forest Regressor"
   ]
  },
  {
   "cell_type": "code",
   "execution_count": 25,
   "metadata": {
    "colab": {
     "base_uri": "https://localhost:8080/"
    },
    "id": "lSVah4Qv0Dr-",
    "outputId": "f1d4ad9e-8b2f-4c4d-9ac3-57992432017c"
   },
   "outputs": [
    {
     "name": "stdout",
     "output_type": "stream",
     "text": [
      "1025.7919759999997\n",
      "32.02798738603473\n",
      "0.39825218639780036\n"
     ]
    }
   ],
   "source": [
    "# Create and train model\n",
    "rf = RandomForestRegressor(n_estimators = 500, max_features = 'sqrt', max_depth = 10, random_state = 20)\n",
    "rf.fit(x_train, y_train)\n",
    "# Predict on test data\n",
    "prediction = rf.predict(x_test)\n",
    "# Compute mean squared error\n",
    "mse = mean_squared_error(y_test, prediction)\n",
    "rmse = mse**.5\n",
    "# Print results\n",
    "print(mse)\n",
    "print(rmse)\n",
    "r2 = r2_score(y_test, prediction, force_finite=False)\n",
    "print(r2)"
   ]
  }
 ],
 "metadata": {
  "colab": {
   "provenance": []
  },
  "kernelspec": {
   "display_name": "Python 3 (ipykernel)",
   "language": "python",
   "name": "python3"
  },
  "language_info": {
   "codemirror_mode": {
    "name": "ipython",
    "version": 3
   },
   "file_extension": ".py",
   "mimetype": "text/x-python",
   "name": "python",
   "nbconvert_exporter": "python",
   "pygments_lexer": "ipython3",
   "version": "3.11.5"
  }
 },
 "nbformat": 4,
 "nbformat_minor": 4
}
